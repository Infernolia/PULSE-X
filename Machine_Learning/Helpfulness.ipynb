{
  "nbformat": 4,
  "nbformat_minor": 0,
  "metadata": {
    "kernelspec": {
      "display_name": "Python 3",
      "language": "python",
      "name": "python3"
    },
    "language_info": {
      "codemirror_mode": {
        "name": "ipython",
        "version": 3
      },
      "file_extension": ".py",
      "mimetype": "text/x-python",
      "name": "python",
      "nbconvert_exporter": "python",
      "pygments_lexer": "ipython3",
      "version": "3.8.3"
    },
    "colab": {
      "name": "Helpfulness.ipynb",
      "provenance": [],
      "collapsed_sections": [
        "57hg9alCqfg3",
        "Lf-6rDeiqfhQ",
        "ejip_sOJqfhV",
        "71aqLVZZqfhZ",
        "mC0O2cHNqfho"
      ]
    }
  },
  "cells": [
    {
      "cell_type": "code",
      "metadata": {
        "id": "dDSghAaUqfe4"
      },
      "source": [
        "#importing the libraries\n",
        "import pandas as pd                                  \n",
        "import numpy as np                                   \n",
        "import random                                        \n",
        "from nltk.stem.porter import PorterStemmer           \n",
        "import string                                        \n",
        "from sklearn.preprocessing import PolynomialFeatures\n",
        "import seaborn as sns \n",
        "import matplotlib.pyplot as plt"
      ],
      "execution_count": null,
      "outputs": []
    },
    {
      "cell_type": "code",
      "metadata": {
        "id": "s5i5nOnZqfe8"
      },
      "source": [
        "data = pd.read_csv('Reviews.csv')"
      ],
      "execution_count": null,
      "outputs": []
    },
    {
      "cell_type": "code",
      "metadata": {
        "id": "QWnPR4FUqffA",
        "outputId": "5dd9c2d8-2662-4a05-88b1-5c7f5a3b04cf"
      },
      "source": [
        "data.head()"
      ],
      "execution_count": null,
      "outputs": [
        {
          "output_type": "execute_result",
          "data": {
            "text/html": [
              "<div>\n",
              "<style scoped>\n",
              "    .dataframe tbody tr th:only-of-type {\n",
              "        vertical-align: middle;\n",
              "    }\n",
              "\n",
              "    .dataframe tbody tr th {\n",
              "        vertical-align: top;\n",
              "    }\n",
              "\n",
              "    .dataframe thead th {\n",
              "        text-align: right;\n",
              "    }\n",
              "</style>\n",
              "<table border=\"1\" class=\"dataframe\">\n",
              "  <thead>\n",
              "    <tr style=\"text-align: right;\">\n",
              "      <th></th>\n",
              "      <th>Id</th>\n",
              "      <th>ProductId</th>\n",
              "      <th>UserId</th>\n",
              "      <th>ProfileName</th>\n",
              "      <th>HelpfulnessNumerator</th>\n",
              "      <th>HelpfulnessDenominator</th>\n",
              "      <th>Score</th>\n",
              "      <th>Time</th>\n",
              "      <th>Summary</th>\n",
              "      <th>Text</th>\n",
              "    </tr>\n",
              "  </thead>\n",
              "  <tbody>\n",
              "    <tr>\n",
              "      <th>0</th>\n",
              "      <td>1</td>\n",
              "      <td>B001E4KFG0</td>\n",
              "      <td>A3SGXH7AUHU8GW</td>\n",
              "      <td>delmartian</td>\n",
              "      <td>1</td>\n",
              "      <td>1</td>\n",
              "      <td>5</td>\n",
              "      <td>1303862400</td>\n",
              "      <td>Good Quality Dog Food</td>\n",
              "      <td>I have bought several of the Vitality canned d...</td>\n",
              "    </tr>\n",
              "    <tr>\n",
              "      <th>1</th>\n",
              "      <td>2</td>\n",
              "      <td>B00813GRG4</td>\n",
              "      <td>A1D87F6ZCVE5NK</td>\n",
              "      <td>dll pa</td>\n",
              "      <td>0</td>\n",
              "      <td>0</td>\n",
              "      <td>1</td>\n",
              "      <td>1346976000</td>\n",
              "      <td>Not as Advertised</td>\n",
              "      <td>Product arrived labeled as Jumbo Salted Peanut...</td>\n",
              "    </tr>\n",
              "    <tr>\n",
              "      <th>2</th>\n",
              "      <td>3</td>\n",
              "      <td>B000LQOCH0</td>\n",
              "      <td>ABXLMWJIXXAIN</td>\n",
              "      <td>Natalia Corres \"Natalia Corres\"</td>\n",
              "      <td>1</td>\n",
              "      <td>1</td>\n",
              "      <td>4</td>\n",
              "      <td>1219017600</td>\n",
              "      <td>\"Delight\" says it all</td>\n",
              "      <td>This is a confection that has been around a fe...</td>\n",
              "    </tr>\n",
              "    <tr>\n",
              "      <th>3</th>\n",
              "      <td>4</td>\n",
              "      <td>B000UA0QIQ</td>\n",
              "      <td>A395BORC6FGVXV</td>\n",
              "      <td>Karl</td>\n",
              "      <td>3</td>\n",
              "      <td>3</td>\n",
              "      <td>2</td>\n",
              "      <td>1307923200</td>\n",
              "      <td>Cough Medicine</td>\n",
              "      <td>If you are looking for the secret ingredient i...</td>\n",
              "    </tr>\n",
              "    <tr>\n",
              "      <th>4</th>\n",
              "      <td>5</td>\n",
              "      <td>B006K2ZZ7K</td>\n",
              "      <td>A1UQRSCLF8GW1T</td>\n",
              "      <td>Michael D. Bigham \"M. Wassir\"</td>\n",
              "      <td>0</td>\n",
              "      <td>0</td>\n",
              "      <td>5</td>\n",
              "      <td>1350777600</td>\n",
              "      <td>Great taffy</td>\n",
              "      <td>Great taffy at a great price.  There was a wid...</td>\n",
              "    </tr>\n",
              "  </tbody>\n",
              "</table>\n",
              "</div>"
            ],
            "text/plain": [
              "   Id   ProductId          UserId                      ProfileName  \\\n",
              "0   1  B001E4KFG0  A3SGXH7AUHU8GW                       delmartian   \n",
              "1   2  B00813GRG4  A1D87F6ZCVE5NK                           dll pa   \n",
              "2   3  B000LQOCH0   ABXLMWJIXXAIN  Natalia Corres \"Natalia Corres\"   \n",
              "3   4  B000UA0QIQ  A395BORC6FGVXV                             Karl   \n",
              "4   5  B006K2ZZ7K  A1UQRSCLF8GW1T    Michael D. Bigham \"M. Wassir\"   \n",
              "\n",
              "   HelpfulnessNumerator  HelpfulnessDenominator  Score        Time  \\\n",
              "0                     1                       1      5  1303862400   \n",
              "1                     0                       0      1  1346976000   \n",
              "2                     1                       1      4  1219017600   \n",
              "3                     3                       3      2  1307923200   \n",
              "4                     0                       0      5  1350777600   \n",
              "\n",
              "                 Summary                                               Text  \n",
              "0  Good Quality Dog Food  I have bought several of the Vitality canned d...  \n",
              "1      Not as Advertised  Product arrived labeled as Jumbo Salted Peanut...  \n",
              "2  \"Delight\" says it all  This is a confection that has been around a fe...  \n",
              "3         Cough Medicine  If you are looking for the secret ingredient i...  \n",
              "4            Great taffy  Great taffy at a great price.  There was a wid...  "
            ]
          },
          "metadata": {
            "tags": []
          },
          "execution_count": 5
        }
      ]
    },
    {
      "cell_type": "code",
      "metadata": {
        "id": "STKLTxzgqffF",
        "outputId": "2cadfc16-12af-4b3c-f697-3d052cfebfcf"
      },
      "source": [
        "data.info()"
      ],
      "execution_count": null,
      "outputs": [
        {
          "output_type": "stream",
          "text": [
            "<class 'pandas.core.frame.DataFrame'>\n",
            "RangeIndex: 568454 entries, 0 to 568453\n",
            "Data columns (total 10 columns):\n",
            " #   Column                  Non-Null Count   Dtype \n",
            "---  ------                  --------------   ----- \n",
            " 0   Id                      568454 non-null  int64 \n",
            " 1   ProductId               568454 non-null  object\n",
            " 2   UserId                  568454 non-null  object\n",
            " 3   ProfileName             568438 non-null  object\n",
            " 4   HelpfulnessNumerator    568454 non-null  int64 \n",
            " 5   HelpfulnessDenominator  568454 non-null  int64 \n",
            " 6   Score                   568454 non-null  int64 \n",
            " 7   Time                    568454 non-null  int64 \n",
            " 8   Summary                 568427 non-null  object\n",
            " 9   Text                    568454 non-null  object\n",
            "dtypes: int64(5), object(5)\n",
            "memory usage: 43.4+ MB\n"
          ],
          "name": "stdout"
        }
      ]
    },
    {
      "cell_type": "code",
      "metadata": {
        "id": "jlgtOcRDqffK",
        "outputId": "272f08d0-6940-4ca9-b30e-83f00b707ef5"
      },
      "source": [
        "# Count non-unique review texts\n",
        "dupe_texts = data.duplicated(subset=['Text'])\n",
        "dupe_texts[dupe_texts == True].count()"
      ],
      "execution_count": null,
      "outputs": [
        {
          "output_type": "execute_result",
          "data": {
            "text/plain": [
              "174875"
            ]
          },
          "metadata": {
            "tags": []
          },
          "execution_count": 7
        }
      ]
    },
    {
      "cell_type": "code",
      "metadata": {
        "id": "COB4mUKKqffP"
      },
      "source": [
        "# Select just the unique reviews\n",
        "data = data.drop_duplicates(subset=['Text'])"
      ],
      "execution_count": null,
      "outputs": []
    },
    {
      "cell_type": "code",
      "metadata": {
        "id": "B8TRY3zZqffS",
        "outputId": "7e7c8ffa-2b0d-416e-853f-d200f4608b33"
      },
      "source": [
        "# Check counts and missing values\n",
        "data.info()"
      ],
      "execution_count": null,
      "outputs": [
        {
          "output_type": "stream",
          "text": [
            "<class 'pandas.core.frame.DataFrame'>\n",
            "Int64Index: 393579 entries, 0 to 568453\n",
            "Data columns (total 10 columns):\n",
            " #   Column                  Non-Null Count   Dtype \n",
            "---  ------                  --------------   ----- \n",
            " 0   Id                      393579 non-null  int64 \n",
            " 1   ProductId               393579 non-null  object\n",
            " 2   UserId                  393579 non-null  object\n",
            " 3   ProfileName             393568 non-null  object\n",
            " 4   HelpfulnessNumerator    393579 non-null  int64 \n",
            " 5   HelpfulnessDenominator  393579 non-null  int64 \n",
            " 6   Score                   393579 non-null  int64 \n",
            " 7   Time                    393579 non-null  int64 \n",
            " 8   Summary                 393576 non-null  object\n",
            " 9   Text                    393579 non-null  object\n",
            "dtypes: int64(5), object(5)\n",
            "memory usage: 33.0+ MB\n"
          ],
          "name": "stdout"
        }
      ]
    },
    {
      "cell_type": "code",
      "metadata": {
        "id": "Wgs6V-rhqffW",
        "outputId": "19d92480-7692-46e5-8d3c-4097840e73f6"
      },
      "source": [
        "data['Text_len'] = data['Text'].apply(lambda x: len(x))\n",
        "data.head()"
      ],
      "execution_count": null,
      "outputs": [
        {
          "output_type": "execute_result",
          "data": {
            "text/html": [
              "<div>\n",
              "<style scoped>\n",
              "    .dataframe tbody tr th:only-of-type {\n",
              "        vertical-align: middle;\n",
              "    }\n",
              "\n",
              "    .dataframe tbody tr th {\n",
              "        vertical-align: top;\n",
              "    }\n",
              "\n",
              "    .dataframe thead th {\n",
              "        text-align: right;\n",
              "    }\n",
              "</style>\n",
              "<table border=\"1\" class=\"dataframe\">\n",
              "  <thead>\n",
              "    <tr style=\"text-align: right;\">\n",
              "      <th></th>\n",
              "      <th>Id</th>\n",
              "      <th>ProductId</th>\n",
              "      <th>UserId</th>\n",
              "      <th>ProfileName</th>\n",
              "      <th>HelpfulnessNumerator</th>\n",
              "      <th>HelpfulnessDenominator</th>\n",
              "      <th>Score</th>\n",
              "      <th>Time</th>\n",
              "      <th>Summary</th>\n",
              "      <th>Text</th>\n",
              "      <th>Text_len</th>\n",
              "    </tr>\n",
              "  </thead>\n",
              "  <tbody>\n",
              "    <tr>\n",
              "      <th>0</th>\n",
              "      <td>1</td>\n",
              "      <td>B001E4KFG0</td>\n",
              "      <td>A3SGXH7AUHU8GW</td>\n",
              "      <td>delmartian</td>\n",
              "      <td>1</td>\n",
              "      <td>1</td>\n",
              "      <td>5</td>\n",
              "      <td>1303862400</td>\n",
              "      <td>Good Quality Dog Food</td>\n",
              "      <td>I have bought several of the Vitality canned d...</td>\n",
              "      <td>263</td>\n",
              "    </tr>\n",
              "    <tr>\n",
              "      <th>1</th>\n",
              "      <td>2</td>\n",
              "      <td>B00813GRG4</td>\n",
              "      <td>A1D87F6ZCVE5NK</td>\n",
              "      <td>dll pa</td>\n",
              "      <td>0</td>\n",
              "      <td>0</td>\n",
              "      <td>1</td>\n",
              "      <td>1346976000</td>\n",
              "      <td>Not as Advertised</td>\n",
              "      <td>Product arrived labeled as Jumbo Salted Peanut...</td>\n",
              "      <td>190</td>\n",
              "    </tr>\n",
              "    <tr>\n",
              "      <th>2</th>\n",
              "      <td>3</td>\n",
              "      <td>B000LQOCH0</td>\n",
              "      <td>ABXLMWJIXXAIN</td>\n",
              "      <td>Natalia Corres \"Natalia Corres\"</td>\n",
              "      <td>1</td>\n",
              "      <td>1</td>\n",
              "      <td>4</td>\n",
              "      <td>1219017600</td>\n",
              "      <td>\"Delight\" says it all</td>\n",
              "      <td>This is a confection that has been around a fe...</td>\n",
              "      <td>509</td>\n",
              "    </tr>\n",
              "    <tr>\n",
              "      <th>3</th>\n",
              "      <td>4</td>\n",
              "      <td>B000UA0QIQ</td>\n",
              "      <td>A395BORC6FGVXV</td>\n",
              "      <td>Karl</td>\n",
              "      <td>3</td>\n",
              "      <td>3</td>\n",
              "      <td>2</td>\n",
              "      <td>1307923200</td>\n",
              "      <td>Cough Medicine</td>\n",
              "      <td>If you are looking for the secret ingredient i...</td>\n",
              "      <td>219</td>\n",
              "    </tr>\n",
              "    <tr>\n",
              "      <th>4</th>\n",
              "      <td>5</td>\n",
              "      <td>B006K2ZZ7K</td>\n",
              "      <td>A1UQRSCLF8GW1T</td>\n",
              "      <td>Michael D. Bigham \"M. Wassir\"</td>\n",
              "      <td>0</td>\n",
              "      <td>0</td>\n",
              "      <td>5</td>\n",
              "      <td>1350777600</td>\n",
              "      <td>Great taffy</td>\n",
              "      <td>Great taffy at a great price.  There was a wid...</td>\n",
              "      <td>140</td>\n",
              "    </tr>\n",
              "  </tbody>\n",
              "</table>\n",
              "</div>"
            ],
            "text/plain": [
              "   Id   ProductId          UserId                      ProfileName  \\\n",
              "0   1  B001E4KFG0  A3SGXH7AUHU8GW                       delmartian   \n",
              "1   2  B00813GRG4  A1D87F6ZCVE5NK                           dll pa   \n",
              "2   3  B000LQOCH0   ABXLMWJIXXAIN  Natalia Corres \"Natalia Corres\"   \n",
              "3   4  B000UA0QIQ  A395BORC6FGVXV                             Karl   \n",
              "4   5  B006K2ZZ7K  A1UQRSCLF8GW1T    Michael D. Bigham \"M. Wassir\"   \n",
              "\n",
              "   HelpfulnessNumerator  HelpfulnessDenominator  Score        Time  \\\n",
              "0                     1                       1      5  1303862400   \n",
              "1                     0                       0      1  1346976000   \n",
              "2                     1                       1      4  1219017600   \n",
              "3                     3                       3      2  1307923200   \n",
              "4                     0                       0      5  1350777600   \n",
              "\n",
              "                 Summary                                               Text  \\\n",
              "0  Good Quality Dog Food  I have bought several of the Vitality canned d...   \n",
              "1      Not as Advertised  Product arrived labeled as Jumbo Salted Peanut...   \n",
              "2  \"Delight\" says it all  This is a confection that has been around a fe...   \n",
              "3         Cough Medicine  If you are looking for the secret ingredient i...   \n",
              "4            Great taffy  Great taffy at a great price.  There was a wid...   \n",
              "\n",
              "   Text_len  \n",
              "0       263  \n",
              "1       190  \n",
              "2       509  \n",
              "3       219  \n",
              "4       140  "
            ]
          },
          "metadata": {
            "tags": []
          },
          "execution_count": 10
        }
      ]
    },
    {
      "cell_type": "code",
      "metadata": {
        "id": "5e75zFYsqffa",
        "outputId": "c44f5fff-2cac-42b5-8021-d1b5929e16ce"
      },
      "source": [
        "data.isna().sum()"
      ],
      "execution_count": null,
      "outputs": [
        {
          "output_type": "execute_result",
          "data": {
            "text/plain": [
              "Id                         0\n",
              "ProductId                  0\n",
              "UserId                     0\n",
              "ProfileName               11\n",
              "HelpfulnessNumerator       0\n",
              "HelpfulnessDenominator     0\n",
              "Score                      0\n",
              "Time                       0\n",
              "Summary                    3\n",
              "Text                       0\n",
              "Text_len                   0\n",
              "dtype: int64"
            ]
          },
          "metadata": {
            "tags": []
          },
          "execution_count": 11
        }
      ]
    },
    {
      "cell_type": "code",
      "metadata": {
        "id": "i_X7qsw0qffd",
        "outputId": "ad13c81e-924d-4d1b-c4a1-28741ffbbd2f"
      },
      "source": [
        "# Make a copy of the dataset with just the feature and target\n",
        "data = data[['HelpfulnessNumerator','HelpfulnessDenominator', 'Text']]\n",
        "data.info()"
      ],
      "execution_count": null,
      "outputs": [
        {
          "output_type": "stream",
          "text": [
            "<class 'pandas.core.frame.DataFrame'>\n",
            "Int64Index: 393579 entries, 0 to 568453\n",
            "Data columns (total 3 columns):\n",
            " #   Column                  Non-Null Count   Dtype \n",
            "---  ------                  --------------   ----- \n",
            " 0   HelpfulnessNumerator    393579 non-null  int64 \n",
            " 1   HelpfulnessDenominator  393579 non-null  int64 \n",
            " 2   Text                    393579 non-null  object\n",
            "dtypes: int64(2), object(1)\n",
            "memory usage: 12.0+ MB\n"
          ],
          "name": "stdout"
        }
      ]
    },
    {
      "cell_type": "code",
      "metadata": {
        "id": "1JPTCy4zqffi"
      },
      "source": [
        "# Lemmatize data\n",
        "\n",
        "import nltk\n",
        "from nltk.tokenize import sent_tokenize,word_tokenize\n",
        "from nltk.stem import WordNetLemmatizer\n",
        "\n",
        "def lemmatize(text):\n",
        "    lemmatizer = WordNetLemmatizer()\n",
        "    word_list = nltk.word_tokenize(text)\n",
        "    lemmatized_output = ' '.join([lemmatizer.lemmatize(w, pos='v') for w in word_list])\n",
        "    return lemmatized_output\n",
        "\n",
        "data['Text'] = data['Text'].apply(lemmatize)"
      ],
      "execution_count": null,
      "outputs": []
    },
    {
      "cell_type": "code",
      "metadata": {
        "id": "entIwZS2qffm",
        "outputId": "626e03b2-377e-4389-ca41-ad38f0626543"
      },
      "source": [
        "data.head()"
      ],
      "execution_count": null,
      "outputs": [
        {
          "output_type": "execute_result",
          "data": {
            "text/html": [
              "<div>\n",
              "<style scoped>\n",
              "    .dataframe tbody tr th:only-of-type {\n",
              "        vertical-align: middle;\n",
              "    }\n",
              "\n",
              "    .dataframe tbody tr th {\n",
              "        vertical-align: top;\n",
              "    }\n",
              "\n",
              "    .dataframe thead th {\n",
              "        text-align: right;\n",
              "    }\n",
              "</style>\n",
              "<table border=\"1\" class=\"dataframe\">\n",
              "  <thead>\n",
              "    <tr style=\"text-align: right;\">\n",
              "      <th></th>\n",
              "      <th>HelpfulnessNumerator</th>\n",
              "      <th>HelpfulnessDenominator</th>\n",
              "      <th>Text</th>\n",
              "    </tr>\n",
              "  </thead>\n",
              "  <tbody>\n",
              "    <tr>\n",
              "      <th>0</th>\n",
              "      <td>1</td>\n",
              "      <td>1</td>\n",
              "      <td>I have buy several of the Vitality can dog foo...</td>\n",
              "    </tr>\n",
              "    <tr>\n",
              "      <th>1</th>\n",
              "      <td>0</td>\n",
              "      <td>0</td>\n",
              "      <td>Product arrive label as Jumbo Salted Peanuts ....</td>\n",
              "    </tr>\n",
              "    <tr>\n",
              "      <th>2</th>\n",
              "      <td>1</td>\n",
              "      <td>1</td>\n",
              "      <td>This be a confection that have be around a few...</td>\n",
              "    </tr>\n",
              "    <tr>\n",
              "      <th>3</th>\n",
              "      <td>3</td>\n",
              "      <td>3</td>\n",
              "      <td>If you be look for the secret ingredient in Ro...</td>\n",
              "    </tr>\n",
              "    <tr>\n",
              "      <th>4</th>\n",
              "      <td>0</td>\n",
              "      <td>0</td>\n",
              "      <td>Great taffy at a great price . There be a wide...</td>\n",
              "    </tr>\n",
              "  </tbody>\n",
              "</table>\n",
              "</div>"
            ],
            "text/plain": [
              "   HelpfulnessNumerator  HelpfulnessDenominator  \\\n",
              "0                     1                       1   \n",
              "1                     0                       0   \n",
              "2                     1                       1   \n",
              "3                     3                       3   \n",
              "4                     0                       0   \n",
              "\n",
              "                                                Text  \n",
              "0  I have buy several of the Vitality can dog foo...  \n",
              "1  Product arrive label as Jumbo Salted Peanuts ....  \n",
              "2  This be a confection that have be around a few...  \n",
              "3  If you be look for the secret ingredient in Ro...  \n",
              "4  Great taffy at a great price . There be a wide...  "
            ]
          },
          "metadata": {
            "tags": []
          },
          "execution_count": 16
        }
      ]
    },
    {
      "cell_type": "code",
      "metadata": {
        "id": "DLfuUSROqffr"
      },
      "source": [
        "# Save the clean dataset\n",
        "data.to_csv('data_clean.csv')"
      ],
      "execution_count": null,
      "outputs": []
    },
    {
      "cell_type": "code",
      "metadata": {
        "id": "rB-errl8qffu"
      },
      "source": [
        "# X1 contains 'Helpful'=0 if HelpfulnessNumerator=0\n",
        "data1 = data.loc[:, ['Text']]\n",
        "data1['Helpful'] = np.where(data['HelpfulnessNumerator'] > 0, 1, 0)\n",
        "\n",
        "# X2 contains 'Helpful'=0 only if HelpfulnessNumerator=0 and HelpfulnessDenominator!=0\n",
        "# So basically chucking all the data with no votes\n",
        "data2 = data.loc[:, ['Text']]\n",
        "data2['Helpful'] = np.where(data['HelpfulnessNumerator'] > 0, 1, 0)\n",
        "data2.drop(data2[data['HelpfulnessDenominator'] == 0].index, inplace = True) "
      ],
      "execution_count": null,
      "outputs": []
    },
    {
      "cell_type": "code",
      "metadata": {
        "id": "jxo79mJpqffx",
        "outputId": "e4792f43-08ae-46df-9498-0a02a0951378"
      },
      "source": [
        "data1.head()"
      ],
      "execution_count": null,
      "outputs": [
        {
          "output_type": "execute_result",
          "data": {
            "text/html": [
              "<div>\n",
              "<style scoped>\n",
              "    .dataframe tbody tr th:only-of-type {\n",
              "        vertical-align: middle;\n",
              "    }\n",
              "\n",
              "    .dataframe tbody tr th {\n",
              "        vertical-align: top;\n",
              "    }\n",
              "\n",
              "    .dataframe thead th {\n",
              "        text-align: right;\n",
              "    }\n",
              "</style>\n",
              "<table border=\"1\" class=\"dataframe\">\n",
              "  <thead>\n",
              "    <tr style=\"text-align: right;\">\n",
              "      <th></th>\n",
              "      <th>Text</th>\n",
              "      <th>Helpful</th>\n",
              "    </tr>\n",
              "  </thead>\n",
              "  <tbody>\n",
              "    <tr>\n",
              "      <th>0</th>\n",
              "      <td>I have buy several of the Vitality can dog foo...</td>\n",
              "      <td>1</td>\n",
              "    </tr>\n",
              "    <tr>\n",
              "      <th>1</th>\n",
              "      <td>Product arrive label as Jumbo Salted Peanuts ....</td>\n",
              "      <td>0</td>\n",
              "    </tr>\n",
              "    <tr>\n",
              "      <th>2</th>\n",
              "      <td>This be a confection that have be around a few...</td>\n",
              "      <td>1</td>\n",
              "    </tr>\n",
              "    <tr>\n",
              "      <th>3</th>\n",
              "      <td>If you be look for the secret ingredient in Ro...</td>\n",
              "      <td>1</td>\n",
              "    </tr>\n",
              "    <tr>\n",
              "      <th>4</th>\n",
              "      <td>Great taffy at a great price . There be a wide...</td>\n",
              "      <td>0</td>\n",
              "    </tr>\n",
              "  </tbody>\n",
              "</table>\n",
              "</div>"
            ],
            "text/plain": [
              "                                                Text  Helpful\n",
              "0  I have buy several of the Vitality can dog foo...        1\n",
              "1  Product arrive label as Jumbo Salted Peanuts ....        0\n",
              "2  This be a confection that have be around a few...        1\n",
              "3  If you be look for the secret ingredient in Ro...        1\n",
              "4  Great taffy at a great price . There be a wide...        0"
            ]
          },
          "metadata": {
            "tags": []
          },
          "execution_count": 20
        }
      ]
    },
    {
      "cell_type": "code",
      "metadata": {
        "id": "5nmqY0ZDqff1",
        "outputId": "c5291b98-9354-4661-c7eb-1dcdce4d563d"
      },
      "source": [
        "# Create a sample of 3000 reviews and their labels\n",
        "data_tsne = data1\n",
        "data_brief = data_tsne.sample(3000)\n",
        "data_brief.Helpful.value_counts()\n",
        "\n",
        "from sklearn.feature_extraction.text import TfidfVectorizer\n",
        "from yellowbrick.text import TSNEVisualizer\n",
        "\n",
        "# Prepare the data\n",
        "tfidf = TfidfVectorizer()\n",
        "x = tfidf.fit_transform(data_brief.Text)\n",
        "y = data_brief.Helpful\n",
        "\n",
        "# Plot t-SNE\n",
        "tsne = TSNEVisualizer()\n",
        "tsne.fit(x, y)\n",
        "tsne.show();"
      ],
      "execution_count": null,
      "outputs": [
        {
          "output_type": "stream",
          "text": [
            "/home/ubuntu/anaconda3/lib/python3.8/site-packages/sklearn/utils/deprecation.py:143: FutureWarning: The sklearn.metrics.classification module is  deprecated in version 0.22 and will be removed in version 0.24. The corresponding classes / functions should instead be imported from sklearn.metrics. Anything that cannot be imported from sklearn.metrics is now part of the private API.\n",
            "  warnings.warn(message, FutureWarning)\n",
            "*c* argument looks like a single numeric RGB or RGBA sequence, which should be avoided as value-mapping will have precedence in case its length matches with *x* & *y*.  Please use the *color* keyword-argument or provide a 2-D array with a single row if you intend to specify the same RGB or RGBA value for all points.\n",
            "*c* argument looks like a single numeric RGB or RGBA sequence, which should be avoided as value-mapping will have precedence in case its length matches with *x* & *y*.  Please use the *color* keyword-argument or provide a 2-D array with a single row if you intend to specify the same RGB or RGBA value for all points.\n"
          ],
          "name": "stderr"
        },
        {
          "output_type": "display_data",
          "data": {
            "image/png": "[encoded data removed]",
            "text/plain": [
              "<Figure size 576x396 with 1 Axes>"
            ]
          },
          "metadata": {
            "tags": []
          }
        }
      ]
    },
    {
      "cell_type": "code",
      "metadata": {
        "id": "XFpHzqOCqff4"
      },
      "source": [
        ""
      ],
      "execution_count": null,
      "outputs": []
    },
    {
      "cell_type": "code",
      "metadata": {
        "id": "5SSJjsAhqff7",
        "outputId": "af6fbee6-6059-442c-f41c-991d882da354"
      },
      "source": [
        "data2.head()"
      ],
      "execution_count": null,
      "outputs": [
        {
          "output_type": "execute_result",
          "data": {
            "text/html": [
              "<div>\n",
              "<style scoped>\n",
              "    .dataframe tbody tr th:only-of-type {\n",
              "        vertical-align: middle;\n",
              "    }\n",
              "\n",
              "    .dataframe tbody tr th {\n",
              "        vertical-align: top;\n",
              "    }\n",
              "\n",
              "    .dataframe thead th {\n",
              "        text-align: right;\n",
              "    }\n",
              "</style>\n",
              "<table border=\"1\" class=\"dataframe\">\n",
              "  <thead>\n",
              "    <tr style=\"text-align: right;\">\n",
              "      <th></th>\n",
              "      <th>Text</th>\n",
              "      <th>Helpful</th>\n",
              "    </tr>\n",
              "  </thead>\n",
              "  <tbody>\n",
              "    <tr>\n",
              "      <th>0</th>\n",
              "      <td>I have buy several of the Vitality can dog foo...</td>\n",
              "      <td>1</td>\n",
              "    </tr>\n",
              "    <tr>\n",
              "      <th>2</th>\n",
              "      <td>This be a confection that have be around a few...</td>\n",
              "      <td>1</td>\n",
              "    </tr>\n",
              "    <tr>\n",
              "      <th>3</th>\n",
              "      <td>If you be look for the secret ingredient in Ro...</td>\n",
              "      <td>1</td>\n",
              "    </tr>\n",
              "    <tr>\n",
              "      <th>8</th>\n",
              "      <td>Right now I 'm mostly just sprout this so my c...</td>\n",
              "      <td>1</td>\n",
              "    </tr>\n",
              "    <tr>\n",
              "      <th>10</th>\n",
              "      <td>I do n't know if it 's the cactus or the tequi...</td>\n",
              "      <td>1</td>\n",
              "    </tr>\n",
              "  </tbody>\n",
              "</table>\n",
              "</div>"
            ],
            "text/plain": [
              "                                                 Text  Helpful\n",
              "0   I have buy several of the Vitality can dog foo...        1\n",
              "2   This be a confection that have be around a few...        1\n",
              "3   If you be look for the secret ingredient in Ro...        1\n",
              "8   Right now I 'm mostly just sprout this so my c...        1\n",
              "10  I do n't know if it 's the cactus or the tequi...        1"
            ]
          },
          "metadata": {
            "tags": []
          },
          "execution_count": 17
        }
      ]
    },
    {
      "cell_type": "code",
      "metadata": {
        "id": "QwYO662aqff-",
        "outputId": "dab23d43-fbc4-4179-8e38-e293907d6d1e"
      },
      "source": [
        "# Create a sample of 3000 reviews and their labels\n",
        "data_tsne = data2\n",
        "data_brief = data_tsne.sample(3000)\n",
        "data_brief.Helpful.value_counts()\n",
        "\n",
        "from sklearn.feature_extraction.text import TfidfVectorizer\n",
        "from yellowbrick.text import TSNEVisualizer\n",
        "\n",
        "# Prepare the data\n",
        "tfidf = TfidfVectorizer()\n",
        "x = tfidf.fit_transform(data_brief.Text)\n",
        "y = data_brief.Helpful\n",
        "\n",
        "# Plot t-SNE\n",
        "tsne = TSNEVisualizer()\n",
        "tsne.fit(x, y)\n",
        "tsne.show();"
      ],
      "execution_count": null,
      "outputs": [
        {
          "output_type": "stream",
          "text": [
            "*c* argument looks like a single numeric RGB or RGBA sequence, which should be avoided as value-mapping will have precedence in case its length matches with *x* & *y*.  Please use the *color* keyword-argument or provide a 2-D array with a single row if you intend to specify the same RGB or RGBA value for all points.\n",
            "*c* argument looks like a single numeric RGB or RGBA sequence, which should be avoided as value-mapping will have precedence in case its length matches with *x* & *y*.  Please use the *color* keyword-argument or provide a 2-D array with a single row if you intend to specify the same RGB or RGBA value for all points.\n"
          ],
          "name": "stderr"
        },
        {
          "output_type": "display_data",
          "data": {
            "image/png": "[encoded data removed]",
            "text/plain": [
              "<Figure size 576x396 with 1 Axes>"
            ]
          },
          "metadata": {
            "tags": []
          }
        }
      ]
    },
    {
      "cell_type": "code",
      "metadata": {
        "id": "hOO6ZlepqfgB",
        "outputId": "b8e7583e-da06-459b-ee85-b4825c778b9a"
      },
      "source": [
        "#Checking the distribution of data\n",
        "print('Percentage for default')\n",
        "print(data1['Helpful'].value_counts())\n",
        "print(data1['Helpful'].value_counts(normalize=True)*100)\n",
        "round(data1.Helpful.value_counts(normalize=True)*100).plot(kind='bar')\n",
        "plt.title('Percentage distribution of Helpfulness')\n",
        "plt.show()"
      ],
      "execution_count": null,
      "outputs": [
        {
          "output_type": "stream",
          "text": [
            "Percentage for default\n",
            "0    207126\n",
            "1    186453\n",
            "Name: Helpful, dtype: int64\n",
            "0    52.626283\n",
            "1    47.373717\n",
            "Name: Helpful, dtype: float64\n"
          ],
          "name": "stdout"
        },
        {
          "output_type": "display_data",
          "data": {
            "image/png": "[encoded data removed]",
            "text/plain": [
              "<Figure size 576x396 with 1 Axes>"
            ]
          },
          "metadata": {
            "tags": []
          }
        }
      ]
    },
    {
      "cell_type": "code",
      "metadata": {
        "id": "C9fkcxKlqfgE",
        "outputId": "dd830b55-44ca-427c-c0bc-2603ce81655a"
      },
      "source": [
        "#Checking the distribution of data\n",
        "print('Percentage for default')\n",
        "print(data2['Helpful'].value_counts())\n",
        "print(data2['Helpful'].value_counts(normalize=True)*100)\n",
        "round(data2.Helpful.value_counts(normalize=True)*100).plot(kind='bar')\n",
        "plt.title('Percentage distribution of Helpfulness')\n",
        "plt.show()"
      ],
      "execution_count": null,
      "outputs": [
        {
          "output_type": "stream",
          "text": [
            "Percentage for default\n",
            "1    186453\n",
            "0     22630\n",
            "Name: Helpful, dtype: int64\n",
            "1    89.176547\n",
            "0    10.823453\n",
            "Name: Helpful, dtype: float64\n"
          ],
          "name": "stdout"
        },
        {
          "output_type": "display_data",
          "data": {
            "image/png": "[encoded data removed]",
            "text/plain": [
              "<Figure size 576x396 with 1 Axes>"
            ]
          },
          "metadata": {
            "tags": []
          }
        }
      ]
    },
    {
      "cell_type": "code",
      "metadata": {
        "id": "5StVYzvEqfgH"
      },
      "source": [
        "# Input and Output Parameters\n",
        "y1 = data1['Helpful']\n",
        "X1 = data1['Text']"
      ],
      "execution_count": null,
      "outputs": []
    },
    {
      "cell_type": "code",
      "metadata": {
        "id": "J3Enjz5EqfgK",
        "outputId": "0e87d909-d163-4f7d-c4cc-a6d47382bcf2"
      },
      "source": [
        "X1.head()"
      ],
      "execution_count": null,
      "outputs": [
        {
          "output_type": "execute_result",
          "data": {
            "text/plain": [
              "0    I have buy several of the Vitality can dog foo...\n",
              "1    Product arrive label as Jumbo Salted Peanuts ....\n",
              "2    This be a confection that have be around a few...\n",
              "3    If you be look for the secret ingredient in Ro...\n",
              "4    Great taffy at a great price . There be a wide...\n",
              "Name: Text, dtype: object"
            ]
          },
          "metadata": {
            "tags": []
          },
          "execution_count": 22
        }
      ]
    },
    {
      "cell_type": "code",
      "metadata": {
        "id": "Xrj_r-DAqfgM",
        "outputId": "76f634ef-ff6b-46c6-99f4-a235b942703e"
      },
      "source": [
        "y1.head()"
      ],
      "execution_count": null,
      "outputs": [
        {
          "output_type": "execute_result",
          "data": {
            "text/plain": [
              "0    1\n",
              "1    0\n",
              "2    1\n",
              "3    1\n",
              "4    0\n",
              "Name: Helpful, dtype: int64"
            ]
          },
          "metadata": {
            "tags": []
          },
          "execution_count": 23
        }
      ]
    },
    {
      "cell_type": "code",
      "metadata": {
        "id": "TKmjh3xKqfgP"
      },
      "source": [
        "# Input and output parameters\n",
        "y2 = data2['Helpful']\n",
        "X2 = data2['Text']"
      ],
      "execution_count": null,
      "outputs": []
    },
    {
      "cell_type": "code",
      "metadata": {
        "id": "ysMS3mNEqfgT",
        "outputId": "fb2b5c77-b3f0-4e30-f502-9cf9fc270328"
      },
      "source": [
        "X2.head()"
      ],
      "execution_count": null,
      "outputs": [
        {
          "output_type": "execute_result",
          "data": {
            "text/plain": [
              "0     I have buy several of the Vitality can dog foo...\n",
              "2     This be a confection that have be around a few...\n",
              "3     If you be look for the secret ingredient in Ro...\n",
              "8     Right now I 'm mostly just sprout this so my c...\n",
              "10    I do n't know if it 's the cactus or the tequi...\n",
              "Name: Text, dtype: object"
            ]
          },
          "metadata": {
            "tags": []
          },
          "execution_count": 25
        }
      ]
    },
    {
      "cell_type": "code",
      "metadata": {
        "id": "h-xYebhbqfgW",
        "outputId": "a05edd87-747e-4887-a779-769f9296abf8"
      },
      "source": [
        "y2.head()"
      ],
      "execution_count": null,
      "outputs": [
        {
          "output_type": "execute_result",
          "data": {
            "text/plain": [
              "0     1\n",
              "2     1\n",
              "3     1\n",
              "8     1\n",
              "10    1\n",
              "Name: Helpful, dtype: int64"
            ]
          },
          "metadata": {
            "tags": []
          },
          "execution_count": 26
        }
      ]
    },
    {
      "cell_type": "code",
      "metadata": {
        "id": "7I-ldvLwqfgZ",
        "outputId": "5a2c4b82-3e53-49c2-f36e-5512690e542e"
      },
      "source": [
        "# Find splitting point for 80% train, 10% validation, 10% test\n",
        "all_length1 = len(X1)\n",
        "train_len1 = round(0.8 * all_length1)\n",
        "val_len1 = round(0.1 * all_length1)\n",
        "\n",
        "print('Train set length(X1):', train_len1)\n",
        "print('Validation set length(y1):', val_len1)"
      ],
      "execution_count": null,
      "outputs": [
        {
          "output_type": "stream",
          "text": [
            "Train set length(X1): 314863\n",
            "Validation set length(y1): 39358\n"
          ],
          "name": "stdout"
        }
      ]
    },
    {
      "cell_type": "code",
      "metadata": {
        "id": "ULheoOmSqfgc",
        "outputId": "7ead0a2d-0ad7-4781-9cab-614c70d82f9d"
      },
      "source": [
        "# Find splitting point for 80% train, 10% validation, 10% test\n",
        "all_length2 = len(X2)\n",
        "train_len2 = round(0.8 * all_length2)\n",
        "val_len2 = round(0.1 * all_length2)\n",
        "\n",
        "print('Train set length(X2):', train_len2)\n",
        "print('Validation set length(y2):', val_len2)"
      ],
      "execution_count": null,
      "outputs": [
        {
          "output_type": "stream",
          "text": [
            "Train set length(X2): 167266\n",
            "Validation set length(y2): 20908\n"
          ],
          "name": "stdout"
        }
      ]
    },
    {
      "cell_type": "code",
      "metadata": {
        "id": "ZpXMUXI5qfge"
      },
      "source": [
        "# Train-val-test split\n",
        "\n",
        "from sklearn.model_selection import train_test_split\n",
        "\n",
        "X1_train, X1_test, y1_train, y1_test = train_test_split(X1, y1, test_size=val_len1,\n",
        "                                                    random_state=123)\n",
        "X1_train, X1_val, y1_train, y1_val = train_test_split(X1_train, y1_train, \n",
        "                                                test_size=val_len1,\n",
        "                                                random_state=123)"
      ],
      "execution_count": null,
      "outputs": []
    },
    {
      "cell_type": "code",
      "metadata": {
        "id": "36mTNpKKqfgi",
        "outputId": "10f4bdc5-a16c-4f58-ce4b-f00e7e03511d"
      },
      "source": [
        "X1_train"
      ],
      "execution_count": null,
      "outputs": [
        {
          "output_type": "execute_result",
          "data": {
            "text/plain": [
              "41079     My wife like to start her day with a taste of ...\n",
              "493432    I buy this Imagine brand or Kroger 's Naturall...\n",
              "235930    If you 're look for something to give a little...\n",
              "441896    Out of the MIO flavor I 've try , the mango pe...\n",
              "563045    These be so soft and really yummy . I like tha...\n",
              "                                ...                        \n",
              "256304    Our dog always have weepy eye , and the veteri...\n",
              "452202    Once this product come I could not give it as ...\n",
              "38272     all cure meats be over price with ship and han...\n",
              "208303    Buying the mix in place of the freeze already ...\n",
              "67156     We like raisins ( Sun Maid Raisins , 12-Ounce ...\n",
              "Name: Text, Length: 314863, dtype: object"
            ]
          },
          "metadata": {
            "tags": []
          },
          "execution_count": 30
        }
      ]
    },
    {
      "cell_type": "code",
      "metadata": {
        "id": "2YvgHBM0qfgl",
        "outputId": "f6a0d75e-389f-4d68-929c-a5ec6fb8b8e9"
      },
      "source": [
        "y1_train"
      ],
      "execution_count": null,
      "outputs": [
        {
          "output_type": "execute_result",
          "data": {
            "text/plain": [
              "41079     0\n",
              "493432    0\n",
              "235930    0\n",
              "441896    1\n",
              "563045    0\n",
              "         ..\n",
              "256304    0\n",
              "452202    1\n",
              "38272     1\n",
              "208303    1\n",
              "67156     1\n",
              "Name: Helpful, Length: 314863, dtype: int64"
            ]
          },
          "metadata": {
            "tags": []
          },
          "execution_count": 31
        }
      ]
    },
    {
      "cell_type": "code",
      "metadata": {
        "id": "8h-WqRKdqfgp"
      },
      "source": [
        "# Train-val-test split\n",
        "from sklearn.model_selection import train_test_split\n",
        "\n",
        "X2_train, X2_test, y2_train, y2_test = train_test_split(X2, y2, test_size=val_len2,\n",
        "                                                    random_state=123)\n",
        "X2_train, X2_val, y2_train, y2_val = train_test_split(X2_train, y2_train, \n",
        "                                                test_size=val_len2,\n",
        "                                                random_state=123)"
      ],
      "execution_count": null,
      "outputs": []
    },
    {
      "cell_type": "code",
      "metadata": {
        "id": "-StN7ARyqfgr",
        "outputId": "e0121a94-0d30-40a1-b2eb-89ba0c7e3105"
      },
      "source": [
        "# Check that classes are roughly equally represented in each set\n",
        "print(y1_train.value_counts(normalize=True))\n",
        "print(y1_val.value_counts(normalize=True))\n",
        "print(y1_test.value_counts(normalize=True))"
      ],
      "execution_count": null,
      "outputs": [
        {
          "output_type": "stream",
          "text": [
            "0    0.52559\n",
            "1    0.47441\n",
            "Name: Helpful, dtype: float64\n",
            "0    0.529219\n",
            "1    0.470781\n",
            "Name: Helpful, dtype: float64\n",
            "0    0.528685\n",
            "1    0.471315\n",
            "Name: Helpful, dtype: float64\n"
          ],
          "name": "stdout"
        }
      ]
    },
    {
      "cell_type": "code",
      "metadata": {
        "scrolled": true,
        "id": "ZBFIY17yqfgu",
        "outputId": "906faeee-1bc1-49eb-e1fb-ff7351cd6a60"
      },
      "source": [
        "# Check that classes are roughly equally represented in each set\n",
        "print(y2_train.value_counts(normalize=True))\n",
        "print(y2_val.value_counts(normalize=True))\n",
        "print(y2_test.value_counts(normalize=True))"
      ],
      "execution_count": null,
      "outputs": [
        {
          "output_type": "stream",
          "text": [
            "1    0.891676\n",
            "0    0.108324\n",
            "Name: Helpful, dtype: float64\n",
            "1    0.894251\n",
            "0    0.105749\n",
            "Name: Helpful, dtype: float64\n",
            "1    0.889994\n",
            "0    0.110006\n",
            "Name: Helpful, dtype: float64\n"
          ],
          "name": "stdout"
        }
      ]
    },
    {
      "cell_type": "code",
      "metadata": {
        "id": "THl-HNOLqfgx",
        "outputId": "3d5a230f-2762-41b5-f641-eb1da8e29eb4"
      },
      "source": [
        "#Removing Stop Words\n",
        "import nltk\n",
        "nltk.download('stopwords')\n",
        "from nltk.corpus import stopwords\n",
        "import string\n",
        "\n",
        "stop_list = stopwords.words('english')\n",
        "stop_list += list(string.punctuation)\n",
        "stop_list += ['br', '.<', '..', '...', '``', \"''\", '--']"
      ],
      "execution_count": null,
      "outputs": [
        {
          "output_type": "stream",
          "text": [
            "[nltk_data] Downloading package stopwords to /home/ubuntu/nltk_data...\n",
            "[nltk_data]   Package stopwords is already up-to-date!\n"
          ],
          "name": "stderr"
        }
      ]
    },
    {
      "cell_type": "code",
      "metadata": {
        "scrolled": true,
        "id": "SAXvsukMqfg0",
        "outputId": "f4e4d2a3-58bd-4612-fef6-c6a1e50927cc"
      },
      "source": [
        "stop_list"
      ],
      "execution_count": null,
      "outputs": [
        {
          "output_type": "execute_result",
          "data": {
            "text/plain": [
              "['i',\n",
              " 'me',\n",
              " 'my',\n",
              " 'myself',\n",
              " 'we',\n",
              " 'our',\n",
              " 'ours',\n",
              " 'ourselves',\n",
              " 'you',\n",
              " \"you're\",\n",
              " \"you've\",\n",
              " \"you'll\",\n",
              " \"you'd\",\n",
              " 'your',\n",
              " 'yours',\n",
              " 'yourself',\n",
              " 'yourselves',\n",
              " 'he',\n",
              " 'him',\n",
              " 'his',\n",
              " 'himself',\n",
              " 'she',\n",
              " \"she's\",\n",
              " 'her',\n",
              " 'hers',\n",
              " 'herself',\n",
              " 'it',\n",
              " \"it's\",\n",
              " 'its',\n",
              " 'itself',\n",
              " 'they',\n",
              " 'them',\n",
              " 'their',\n",
              " 'theirs',\n",
              " 'themselves',\n",
              " 'what',\n",
              " 'which',\n",
              " 'who',\n",
              " 'whom',\n",
              " 'this',\n",
              " 'that',\n",
              " \"that'll\",\n",
              " 'these',\n",
              " 'those',\n",
              " 'am',\n",
              " 'is',\n",
              " 'are',\n",
              " 'was',\n",
              " 'were',\n",
              " 'be',\n",
              " 'been',\n",
              " 'being',\n",
              " 'have',\n",
              " 'has',\n",
              " 'had',\n",
              " 'having',\n",
              " 'do',\n",
              " 'does',\n",
              " 'did',\n",
              " 'doing',\n",
              " 'a',\n",
              " 'an',\n",
              " 'the',\n",
              " 'and',\n",
              " 'but',\n",
              " 'if',\n",
              " 'or',\n",
              " 'because',\n",
              " 'as',\n",
              " 'until',\n",
              " 'while',\n",
              " 'of',\n",
              " 'at',\n",
              " 'by',\n",
              " 'for',\n",
              " 'with',\n",
              " 'about',\n",
              " 'against',\n",
              " 'between',\n",
              " 'into',\n",
              " 'through',\n",
              " 'during',\n",
              " 'before',\n",
              " 'after',\n",
              " 'above',\n",
              " 'below',\n",
              " 'to',\n",
              " 'from',\n",
              " 'up',\n",
              " 'down',\n",
              " 'in',\n",
              " 'out',\n",
              " 'on',\n",
              " 'off',\n",
              " 'over',\n",
              " 'under',\n",
              " 'again',\n",
              " 'further',\n",
              " 'then',\n",
              " 'once',\n",
              " 'here',\n",
              " 'there',\n",
              " 'when',\n",
              " 'where',\n",
              " 'why',\n",
              " 'how',\n",
              " 'all',\n",
              " 'any',\n",
              " 'both',\n",
              " 'each',\n",
              " 'few',\n",
              " 'more',\n",
              " 'most',\n",
              " 'other',\n",
              " 'some',\n",
              " 'such',\n",
              " 'no',\n",
              " 'nor',\n",
              " 'not',\n",
              " 'only',\n",
              " 'own',\n",
              " 'same',\n",
              " 'so',\n",
              " 'than',\n",
              " 'too',\n",
              " 'very',\n",
              " 's',\n",
              " 't',\n",
              " 'can',\n",
              " 'will',\n",
              " 'just',\n",
              " 'don',\n",
              " \"don't\",\n",
              " 'should',\n",
              " \"should've\",\n",
              " 'now',\n",
              " 'd',\n",
              " 'll',\n",
              " 'm',\n",
              " 'o',\n",
              " 're',\n",
              " 've',\n",
              " 'y',\n",
              " 'ain',\n",
              " 'aren',\n",
              " \"aren't\",\n",
              " 'couldn',\n",
              " \"couldn't\",\n",
              " 'didn',\n",
              " \"didn't\",\n",
              " 'doesn',\n",
              " \"doesn't\",\n",
              " 'hadn',\n",
              " \"hadn't\",\n",
              " 'hasn',\n",
              " \"hasn't\",\n",
              " 'haven',\n",
              " \"haven't\",\n",
              " 'isn',\n",
              " \"isn't\",\n",
              " 'ma',\n",
              " 'mightn',\n",
              " \"mightn't\",\n",
              " 'mustn',\n",
              " \"mustn't\",\n",
              " 'needn',\n",
              " \"needn't\",\n",
              " 'shan',\n",
              " \"shan't\",\n",
              " 'shouldn',\n",
              " \"shouldn't\",\n",
              " 'wasn',\n",
              " \"wasn't\",\n",
              " 'weren',\n",
              " \"weren't\",\n",
              " 'won',\n",
              " \"won't\",\n",
              " 'wouldn',\n",
              " \"wouldn't\",\n",
              " '!',\n",
              " '\"',\n",
              " '#',\n",
              " '$',\n",
              " '%',\n",
              " '&',\n",
              " \"'\",\n",
              " '(',\n",
              " ')',\n",
              " '*',\n",
              " '+',\n",
              " ',',\n",
              " '-',\n",
              " '.',\n",
              " '/',\n",
              " ':',\n",
              " ';',\n",
              " '<',\n",
              " '=',\n",
              " '>',\n",
              " '?',\n",
              " '@',\n",
              " '[',\n",
              " '\\\\',\n",
              " ']',\n",
              " '^',\n",
              " '_',\n",
              " '`',\n",
              " '{',\n",
              " '|',\n",
              " '}',\n",
              " '~',\n",
              " 'br',\n",
              " '.<',\n",
              " '..',\n",
              " '...',\n",
              " '``',\n",
              " \"''\",\n",
              " '--']"
            ]
          },
          "metadata": {
            "tags": []
          },
          "execution_count": 75
        }
      ]
    },
    {
      "cell_type": "markdown",
      "metadata": {
        "id": "57hg9alCqfg3"
      },
      "source": [
        "## Random Forest model on Bigrams"
      ]
    },
    {
      "cell_type": "code",
      "metadata": {
        "id": "dgkJ1DRVqfg3"
      },
      "source": [
        "# Fit a CountVectorizer-RandomForest pipeline (~ 3.5 min.)\n",
        "from sklearn.feature_extraction.text import CountVectorizer\n",
        "from sklearn.pipeline import Pipeline\n",
        "from sklearn.ensemble import RandomForestClassifier\n",
        "\n",
        "pipe_bigram_rf = Pipeline([('vectorizer', CountVectorizer(analyzer='word', \n",
        "                                                          ngram_range=(2, 2), \n",
        "                                                          stop_words=stop_list, \n",
        "                                                          max_features=100)),\n",
        "                        ('forest', RandomForestClassifier(n_estimators=100,\n",
        "                                                          n_jobs=-1))])"
      ],
      "execution_count": null,
      "outputs": []
    },
    {
      "cell_type": "code",
      "metadata": {
        "id": "OhJa3jJ-qfg6",
        "outputId": "31eb4fb9-3153-4a0c-a8da-c561b3ab1043"
      },
      "source": [
        "pipe_bigram_rf.fit(X1_train, y1_train)"
      ],
      "execution_count": null,
      "outputs": [
        {
          "output_type": "execute_result",
          "data": {
            "text/plain": [
              "Pipeline(steps=[('vectorizer',\n",
              "                 CountVectorizer(max_features=100, ngram_range=(2, 2),\n",
              "                                 stop_words=['i', 'me', 'my', 'myself', 'we',\n",
              "                                             'our', 'ours', 'ourselves', 'you',\n",
              "                                             \"you're\", \"you've\", \"you'll\",\n",
              "                                             \"you'd\", 'your', 'yours',\n",
              "                                             'yourself', 'yourselves', 'he',\n",
              "                                             'him', 'his', 'himself', 'she',\n",
              "                                             \"she's\", 'her', 'hers', 'herself',\n",
              "                                             'it', \"it's\", 'its', 'itself', ...])),\n",
              "                ('forest', RandomForestClassifier(n_jobs=-1))])"
            ]
          },
          "metadata": {
            "tags": []
          },
          "execution_count": 77
        }
      ]
    },
    {
      "cell_type": "code",
      "metadata": {
        "id": "_ac0co7_qfg9",
        "outputId": "5fa67cc7-7a10-431b-e8a7-cad0d55ecb3c"
      },
      "source": [
        "# Predict and score\n",
        "from sklearn.metrics import accuracy_score, confusion_matrix, classification_report\n",
        "\n",
        "y1_pred_train = pipe_bigram_rf.predict(X1_train)\n",
        "print('Training accuracy:', accuracy_score(y1_train, y1_pred_train))"
      ],
      "execution_count": null,
      "outputs": [
        {
          "output_type": "stream",
          "text": [
            "Training accuracy: 0.6028145574424432\n"
          ],
          "name": "stdout"
        }
      ]
    },
    {
      "cell_type": "code",
      "metadata": {
        "id": "k5VUCiZIqfhA",
        "outputId": "3f3e66e6-99e0-4a3c-cc22-495a9edebe0c"
      },
      "source": [
        "# Validate\n",
        "y1_pred_val = pipe_bigram_rf.predict(X1_val)\n",
        "print('Validation accuracy:', accuracy_score(y1_val, y1_pred_val))"
      ],
      "execution_count": null,
      "outputs": [
        {
          "output_type": "stream",
          "text": [
            "Validation accuracy: 0.5357995833121602\n"
          ],
          "name": "stdout"
        }
      ]
    },
    {
      "cell_type": "code",
      "metadata": {
        "id": "AiPZ_weMqfhC",
        "outputId": "21f9381a-32d3-4170-87a7-cd3f44d8f27f"
      },
      "source": [
        "pipe_bigram_rf.fit(X2_train, y2_train)"
      ],
      "execution_count": null,
      "outputs": [
        {
          "output_type": "execute_result",
          "data": {
            "text/plain": [
              "Pipeline(steps=[('vectorizer',\n",
              "                 CountVectorizer(max_features=100, ngram_range=(2, 2),\n",
              "                                 stop_words=['i', 'me', 'my', 'myself', 'we',\n",
              "                                             'our', 'ours', 'ourselves', 'you',\n",
              "                                             \"you're\", \"you've\", \"you'll\",\n",
              "                                             \"you'd\", 'your', 'yours',\n",
              "                                             'yourself', 'yourselves', 'he',\n",
              "                                             'him', 'his', 'himself', 'she',\n",
              "                                             \"she's\", 'her', 'hers', 'herself',\n",
              "                                             'it', \"it's\", 'its', 'itself', ...])),\n",
              "                ('forest', RandomForestClassifier(n_jobs=-1))])"
            ]
          },
          "metadata": {
            "tags": []
          },
          "execution_count": 80
        }
      ]
    },
    {
      "cell_type": "code",
      "metadata": {
        "id": "MbYnYNGOqfhF",
        "outputId": "5c6bbe5e-3c48-4b82-9a67-df545034c1ee"
      },
      "source": [
        "# Predict and score\n",
        "from sklearn.metrics import accuracy_score, confusion_matrix, classification_report\n",
        "\n",
        "y2_pred_train = pipe_bigram_rf.predict(X2_train)\n",
        "print('Training accuracy:', accuracy_score(y2_train, y2_pred_train))"
      ],
      "execution_count": null,
      "outputs": [
        {
          "output_type": "stream",
          "text": [
            "Training accuracy: 0.9012716196261068\n"
          ],
          "name": "stdout"
        }
      ]
    },
    {
      "cell_type": "code",
      "metadata": {
        "id": "pIZKoVJoqfhJ",
        "outputId": "b470a11d-60cf-46c5-a0f8-3bedd04d0a2b"
      },
      "source": [
        "# Validate\n",
        "y2_pred_val = pipe_bigram_rf.predict(X2_val)\n",
        "print('Validation accuracy:', accuracy_score(y2_val, y2_pred_val))"
      ],
      "execution_count": null,
      "outputs": [
        {
          "output_type": "stream",
          "text": [
            "Validation accuracy: 0.8910464893820547\n"
          ],
          "name": "stdout"
        }
      ]
    },
    {
      "cell_type": "code",
      "metadata": {
        "id": "D61LcB7oqfhM",
        "outputId": "2bac6598-43c0-42d6-e700-0d4c77fc8443"
      },
      "source": [
        "from sklearn.metrics import plot_confusion_matrix\n",
        "\n",
        "plot_confusion_matrix(pipe_bigram_rf, X2_test, y2_test) \n",
        "\n"
      ],
      "execution_count": null,
      "outputs": [
        {
          "output_type": "execute_result",
          "data": {
            "text/plain": [
              "<sklearn.metrics._plot.confusion_matrix.ConfusionMatrixDisplay at 0x7fc3be615be0>"
            ]
          },
          "metadata": {
            "tags": []
          },
          "execution_count": 83
        },
        {
          "output_type": "display_data",
          "data": {
            "image/png": "[encoded data removed]",
            "text/plain": [
              "<Figure size 576x396 with 2 Axes>"
            ]
          },
          "metadata": {
            "tags": []
          }
        }
      ]
    },
    {
      "cell_type": "markdown",
      "metadata": {
        "id": "Lf-6rDeiqfhQ"
      },
      "source": [
        "## Random Forest model on Unigrams and Bigrams"
      ]
    },
    {
      "cell_type": "code",
      "metadata": {
        "id": "XgCSZjeFqfhQ",
        "outputId": "56c6624d-a893-4138-8e71-a05d95f95a4b"
      },
      "source": [
        "# Fit a CountVectorizer-RandomForest pipeline (~ 3.5 min.)\n",
        "from sklearn.feature_extraction.text import CountVectorizer\n",
        "from sklearn.pipeline import Pipeline\n",
        "from sklearn.ensemble import RandomForestClassifier\n",
        "\n",
        "pipe_bigram_rf = Pipeline([('vectorizer', CountVectorizer(analyzer='word', \n",
        "                                                          ngram_range=(1, 2), \n",
        "                                                          stop_words=stop_list, \n",
        "                                                          max_features=100)),\n",
        "                        ('forest', RandomForestClassifier(n_estimators=100,\n",
        "                                                          n_jobs=-1))])\n",
        "\n",
        "pipe_bigram_rf.fit(X1_train, y1_train)"
      ],
      "execution_count": null,
      "outputs": [
        {
          "output_type": "execute_result",
          "data": {
            "text/plain": [
              "Pipeline(steps=[('vectorizer',\n",
              "                 CountVectorizer(max_features=100, ngram_range=(1, 2),\n",
              "                                 stop_words=['i', 'me', 'my', 'myself', 'we',\n",
              "                                             'our', 'ours', 'ourselves', 'you',\n",
              "                                             \"you're\", \"you've\", \"you'll\",\n",
              "                                             \"you'd\", 'your', 'yours',\n",
              "                                             'yourself', 'yourselves', 'he',\n",
              "                                             'him', 'his', 'himself', 'she',\n",
              "                                             \"she's\", 'her', 'hers', 'herself',\n",
              "                                             'it', \"it's\", 'its', 'itself', ...])),\n",
              "                ('forest', RandomForestClassifier(n_jobs=-1))])"
            ]
          },
          "metadata": {
            "tags": []
          },
          "execution_count": 36
        }
      ]
    },
    {
      "cell_type": "code",
      "metadata": {
        "id": "6JgylXDsqfhS",
        "outputId": "10fc79e1-8152-41ba-98d5-fe72f04376e0"
      },
      "source": [
        "# Predict and score\n",
        "from sklearn.metrics import accuracy_score, confusion_matrix, classification_report\n",
        "\n",
        "y1_pred_train = pipe_bigram_rf.predict(X1_train)\n",
        "print('Training accuracy:', accuracy_score(y1_train, y1_pred_train))"
      ],
      "execution_count": null,
      "outputs": [
        {
          "output_type": "stream",
          "text": [
            "Training accuracy: 0.9863146828938301\n"
          ],
          "name": "stdout"
        }
      ]
    },
    {
      "cell_type": "markdown",
      "metadata": {
        "id": "ejip_sOJqfhV"
      },
      "source": [
        "#### Data is definitely overfitting here."
      ]
    },
    {
      "cell_type": "code",
      "metadata": {
        "scrolled": true,
        "id": "CAwG8vIRqfhV",
        "outputId": "63fe15c7-31c1-4ddd-a9b5-b9762f715cb9"
      },
      "source": [
        "# Validate\n",
        "y1_pred_val = pipe_bigram_rf.predict(X1_val)\n",
        "print('Validation accuracy:', accuracy_score(y1_val, y1_pred_val))"
      ],
      "execution_count": null,
      "outputs": [
        {
          "output_type": "stream",
          "text": [
            "Validation accuracy: 0.5524162813151074\n"
          ],
          "name": "stdout"
        }
      ]
    },
    {
      "cell_type": "code",
      "metadata": {
        "id": "ZYGREzV9qfhX",
        "outputId": "80c11cb6-a058-4be5-dc95-181c5fe6aec1"
      },
      "source": [
        "from sklearn.metrics import plot_confusion_matrix\n",
        "\n",
        "plot_confusion_matrix(pipe_bigram_rf, X1_test, y1_test) \n"
      ],
      "execution_count": null,
      "outputs": [
        {
          "output_type": "execute_result",
          "data": {
            "text/plain": [
              "<sklearn.metrics._plot.confusion_matrix.ConfusionMatrixDisplay at 0x7f55533a9730>"
            ]
          },
          "metadata": {
            "tags": []
          },
          "execution_count": 39
        },
        {
          "output_type": "display_data",
          "data": {
            "image/png": "[encoded data removed]",
            "text/plain": [
              "<Figure size 576x396 with 2 Axes>"
            ]
          },
          "metadata": {
            "tags": []
          }
        }
      ]
    },
    {
      "cell_type": "markdown",
      "metadata": {
        "id": "71aqLVZZqfhZ"
      },
      "source": [
        "## Multinomial Naive-Bayes on TF-IDF values"
      ]
    },
    {
      "cell_type": "code",
      "metadata": {
        "scrolled": true,
        "id": "lw2kEssXqfha",
        "outputId": "fe982a97-4660-48af-ddd3-760456dc70e7"
      },
      "source": [
        "from sklearn.feature_extraction.text import CountVectorizer, TfidfTransformer\n",
        "from sklearn.naive_bayes import MultinomialNB\n",
        "\n",
        "clf = Pipeline([\n",
        "    ('vect', CountVectorizer(stop_words=stop_list)),\n",
        "    ('tfidf', TfidfTransformer()),\n",
        "    ('classifier', MultinomialNB()),\n",
        "    ])\n",
        "\n",
        "nb_clf = clf.fit(X1_train, y1_train)\n",
        "print('Accuracy:', nb_clf.score(X1_val, y1_val))"
      ],
      "execution_count": null,
      "outputs": [
        {
          "output_type": "stream",
          "text": [
            "Accuracy: 0.6001829361248031\n"
          ],
          "name": "stdout"
        }
      ]
    },
    {
      "cell_type": "code",
      "metadata": {
        "id": "jZ8R6Ayrqfhc",
        "outputId": "7ad51b1f-70cd-49d2-f4d8-07cc5f54c907"
      },
      "source": [
        "# Validate\n",
        "y1_pred_val = nb_clf.predict(X1_val)\n",
        "print('Validation accuracy:', accuracy_score(y1_val, y1_pred_val))"
      ],
      "execution_count": null,
      "outputs": [
        {
          "output_type": "stream",
          "text": [
            "Validation accuracy: 0.6001829361248031\n"
          ],
          "name": "stdout"
        }
      ]
    },
    {
      "cell_type": "code",
      "metadata": {
        "id": "ohzPd7gYqfhh",
        "outputId": "df000d41-e31e-4355-ef86-2b07d204dd93"
      },
      "source": [
        "print(y1_pred_val)"
      ],
      "execution_count": null,
      "outputs": [
        {
          "output_type": "stream",
          "text": [
            "[1 0 1 ... 0 0 0]\n"
          ],
          "name": "stdout"
        }
      ]
    },
    {
      "cell_type": "code",
      "metadata": {
        "id": "DCSGO10uqfhk",
        "outputId": "92628642-c223-46d9-a0bd-9a7645faf671"
      },
      "source": [
        "nb_clf = clf.fit(X2_train, y2_train)\n",
        "print('Accuracy:', nb_clf.score(X2_val, y2_val))"
      ],
      "execution_count": null,
      "outputs": [
        {
          "output_type": "stream",
          "text": [
            "Accuracy: 0.8940596900707863\n"
          ],
          "name": "stdout"
        }
      ]
    },
    {
      "cell_type": "markdown",
      "metadata": {
        "id": "mC0O2cHNqfho"
      },
      "source": [
        "## Train a Random Forest model on TF-IDF values¶\n"
      ]
    },
    {
      "cell_type": "code",
      "metadata": {
        "id": "mSD-njWxqfhp",
        "outputId": "97cccc63-8463-46b9-fbe1-c224a9a7d427"
      },
      "source": [
        "from sklearn.feature_extraction.text import TfidfVectorizer\n",
        "from sklearn.pipeline import Pipeline\n",
        "from sklearn.ensemble import RandomForestClassifier\n",
        "\n",
        "pipe_tfidf_rf = Pipeline([('vectorizer', TfidfVectorizer(stop_words=stop_list, \n",
        "                                                         max_features=100)),\n",
        "                          ('forest', RandomForestClassifier(n_estimators=100,\n",
        "                                                            n_jobs=-1))])\n",
        "\n",
        "pipe_tfidf_rf.fit(X1_train, y1_train)"
      ],
      "execution_count": null,
      "outputs": [
        {
          "output_type": "execute_result",
          "data": {
            "text/plain": [
              "Pipeline(steps=[('vectorizer',\n",
              "                 TfidfVectorizer(max_features=100,\n",
              "                                 stop_words=['i', 'me', 'my', 'myself', 'we',\n",
              "                                             'our', 'ours', 'ourselves', 'you',\n",
              "                                             \"you're\", \"you've\", \"you'll\",\n",
              "                                             \"you'd\", 'your', 'yours',\n",
              "                                             'yourself', 'yourselves', 'he',\n",
              "                                             'him', 'his', 'himself', 'she',\n",
              "                                             \"she's\", 'her', 'hers', 'herself',\n",
              "                                             'it', \"it's\", 'its', 'itself', ...])),\n",
              "                ('forest', RandomForestClassifier(n_jobs=-1))])"
            ]
          },
          "metadata": {
            "tags": []
          },
          "execution_count": 44
        }
      ]
    },
    {
      "cell_type": "code",
      "metadata": {
        "id": "lmD-lK-_qfhs",
        "outputId": "2edfdbb6-ad27-4350-dc4e-c98d23cf29a7"
      },
      "source": [
        "# Predict and score\n",
        "from sklearn.metrics import accuracy_score, confusion_matrix, classification_report\n",
        "\n",
        "y_pred_train = pipe_tfidf_rf.predict(X1_train)\n",
        "print('Training accuracy:', accuracy_score(y1_train, y1_pred_train))\n",
        "print(classification_report(y1_train, y1_pred_train))"
      ],
      "execution_count": null,
      "outputs": [
        {
          "output_type": "stream",
          "text": [
            "Training accuracy: 0.9863146828938301\n",
            "              precision    recall  f1-score   support\n",
            "\n",
            "           0       0.98      0.99      0.99    165489\n",
            "           1       0.99      0.98      0.99    149374\n",
            "\n",
            "    accuracy                           0.99    314863\n",
            "   macro avg       0.99      0.99      0.99    314863\n",
            "weighted avg       0.99      0.99      0.99    314863\n",
            "\n"
          ],
          "name": "stdout"
        }
      ]
    },
    {
      "cell_type": "code",
      "metadata": {
        "id": "YnKD93atqfhw",
        "outputId": "8448a368-c19f-4dda-d6d6-d8d026c38fec"
      },
      "source": [
        "# Validate\n",
        "y_pred_val = pipe_tfidf_rf.predict(X1_val)\n",
        "print('Validation accuracy:', accuracy_score(y1_val, y1_pred_val))\n",
        "print(classification_report(y1_val, y1_pred_val))"
      ],
      "execution_count": null,
      "outputs": [
        {
          "output_type": "stream",
          "text": [
            "Validation accuracy: 0.6001829361248031\n",
            "              precision    recall  f1-score   support\n",
            "\n",
            "           0       0.60      0.76      0.67     20829\n",
            "           1       0.61      0.43      0.50     18529\n",
            "\n",
            "    accuracy                           0.60     39358\n",
            "   macro avg       0.60      0.59      0.58     39358\n",
            "weighted avg       0.60      0.60      0.59     39358\n",
            "\n"
          ],
          "name": "stdout"
        }
      ]
    },
    {
      "cell_type": "code",
      "metadata": {
        "id": "n-8T8sqLqfhz",
        "outputId": "5d250f40-03fe-489d-ca2c-d6cc6dd47107"
      },
      "source": [
        "confusion_matrix(y1_val, y1_pred_val)"
      ],
      "execution_count": null,
      "outputs": [
        {
          "output_type": "execute_result",
          "data": {
            "text/plain": [
              "array([[15738,  5091],\n",
              "       [10645,  7884]])"
            ]
          },
          "metadata": {
            "tags": []
          },
          "execution_count": 48
        }
      ]
    }
  ]
}