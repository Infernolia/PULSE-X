{
  "nbformat": 4,
  "nbformat_minor": 0,
  "metadata": {
    "colab": {
      "name": "Aboli_SD.ipynb",
      "provenance": [],
      "collapsed_sections": []
    },
    "kernelspec": {
      "name": "python3",
      "display_name": "Python 3"
    },
    "accelerator": "GPU"
  },
  "cells": [
    {
      "cell_type": "code",
      "metadata": {
        "id": "zgGCntT50hyB",
        "colab_type": "code",
        "colab": {
          "base_uri": "https://localhost:8080/",
          "height": 71
        },
        "outputId": "9e761be3-71e9-4223-9910-737e21c7a279"
      },
      "source": [
        "import pandas as pd\n",
        "import numpy as np\n",
        "import seaborn as sns \n",
        "import matplotlib.pyplot as plt\n",
        "import nltk\n",
        "import re"
      ],
      "execution_count": null,
      "outputs": [
        {
          "output_type": "stream",
          "text": [
            "/usr/local/lib/python3.6/dist-packages/statsmodels/tools/_testing.py:19: FutureWarning: pandas.util.testing is deprecated. Use the functions in the public API at pandas.testing instead.\n",
            "  import pandas.util.testing as tm\n"
          ],
          "name": "stderr"
        }
      ]
    },
    {
      "cell_type": "code",
      "metadata": {
        "id": "AFpnfR72z-kM",
        "colab_type": "code",
        "colab": {
          "base_uri": "https://localhost:8080/",
          "height": 119
        },
        "outputId": "f11f58a4-398a-4d3a-9992-f19a88f3608a"
      },
      "source": [
        "!git clone https://github.com/bfelbo/DeepMoji.git"
      ],
      "execution_count": null,
      "outputs": [
        {
          "output_type": "stream",
          "text": [
            "Cloning into 'DeepMoji'...\n",
            "remote: Enumerating objects: 281, done.\u001b[K\n",
            "remote: Total 281 (delta 0), reused 0 (delta 0), pack-reused 281\u001b[K\n",
            "Receiving objects: 100% (281/281), 110.54 MiB | 38.11 MiB/s, done.\n",
            "Resolving deltas: 100% (142/142), done.\n",
            "Checking out files: 100% (66/66), done.\n"
          ],
          "name": "stdout"
        }
      ]
    },
    {
      "cell_type": "code",
      "metadata": {
        "id": "eQebcCObzjrX",
        "colab_type": "code",
        "colab": {}
      },
      "source": [
        "import os\n",
        "os.chdir('DeepMoji')"
      ],
      "execution_count": null,
      "outputs": []
    },
    {
      "cell_type": "code",
      "metadata": {
        "id": "qqkp7D-2BRSt",
        "colab_type": "code",
        "colab": {
          "base_uri": "https://localhost:8080/",
          "height": 549
        },
        "outputId": "e45342b5-3f81-47fe-d403-4b29437e80f1"
      },
      "source": [
        "!python scripts/download_weights.py\n"
      ],
      "execution_count": null,
      "outputs": [
        {
          "output_type": "stream",
          "text": [
            "About to download the pretrained weights file from https://www.dropbox.com/s/xqarafsl6a8f9ny/deepmoji_weights.hdf5?dl=0#\n",
            "The size of the file is roughly 85MB. Continue? [y/n]\n",
            "y\n",
            "Downloading...\n",
            "Running system call: wget https://www.dropbox.com/s/xqarafsl6a8f9ny/deepmoji_weights.hdf5?dl=0# -O /content/DeepMoji/model/deepmoji_weights.hdf5\n",
            "--2020-09-19 20:20:13--  https://www.dropbox.com/s/xqarafsl6a8f9ny/deepmoji_weights.hdf5?dl=0\n",
            "Resolving www.dropbox.com (www.dropbox.com)... 162.125.1.1, 2620:100:6016:1::a27d:101\n",
            "Connecting to www.dropbox.com (www.dropbox.com)|162.125.1.1|:443... connected.\n",
            "HTTP request sent, awaiting response... 301 Moved Permanently\n",
            "Location: /s/raw/xqarafsl6a8f9ny/deepmoji_weights.hdf5 [following]\n",
            "--2020-09-19 20:20:13--  https://www.dropbox.com/s/raw/xqarafsl6a8f9ny/deepmoji_weights.hdf5\n",
            "Reusing existing connection to www.dropbox.com:443.\n",
            "HTTP request sent, awaiting response... 302 Found\n",
            "Location: https://uc4334d5bfbba6cea6b5f9162886.dl.dropboxusercontent.com/cd/0/inline/A_vMsR2tWtWr7wmQqu8_8DwOgMYnLmnOJ5JptcrkNwnYPOhGTEexb7SokPMqzS5sqyU_Uv9x04evI43IMjbb1xDoO0H1DJH3J50cPRXbAg3BDw/file# [following]\n",
            "--2020-09-19 20:20:14--  https://uc4334d5bfbba6cea6b5f9162886.dl.dropboxusercontent.com/cd/0/inline/A_vMsR2tWtWr7wmQqu8_8DwOgMYnLmnOJ5JptcrkNwnYPOhGTEexb7SokPMqzS5sqyU_Uv9x04evI43IMjbb1xDoO0H1DJH3J50cPRXbAg3BDw/file\n",
            "Resolving uc4334d5bfbba6cea6b5f9162886.dl.dropboxusercontent.com (uc4334d5bfbba6cea6b5f9162886.dl.dropboxusercontent.com)... 162.125.1.15, 2620:100:6016:15::a27d:10f\n",
            "Connecting to uc4334d5bfbba6cea6b5f9162886.dl.dropboxusercontent.com (uc4334d5bfbba6cea6b5f9162886.dl.dropboxusercontent.com)|162.125.1.15|:443... connected.\n",
            "HTTP request sent, awaiting response... 302 Found\n",
            "Location: /cd/0/inline2/A_v62bMg2qqniHMv5wbv13dkiZAcK2dUTRln9pD4bi3xrR_FxfvcscZv2x_FIPgIJrJw0HGcZyy8qZQPSQO1wCeVzlvpGulQ00gtyJocgmR7IgBXICEmFftLa2zyxYct1McUlVSoAznvBp4X1HCWChJ9ZiMbJDTC9B-K8eI6rA2ybfWFTDdbPDbYfoE7aZQSD1OBN1hujQcRl1fZWFCZZ8w2yeimRvZ1NgA72bg9OVCYWkfiufx15YcBR2vuFRfBXpb16UHzsDHRthGtwDRZyuH53HZtEpQGth0VliESdXypF6niXrDXyruB1ASc7FZno-GAZuE5C9MEdwY9iTyDL5HU/file [following]\n",
            "--2020-09-19 20:20:14--  https://uc4334d5bfbba6cea6b5f9162886.dl.dropboxusercontent.com/cd/0/inline2/A_v62bMg2qqniHMv5wbv13dkiZAcK2dUTRln9pD4bi3xrR_FxfvcscZv2x_FIPgIJrJw0HGcZyy8qZQPSQO1wCeVzlvpGulQ00gtyJocgmR7IgBXICEmFftLa2zyxYct1McUlVSoAznvBp4X1HCWChJ9ZiMbJDTC9B-K8eI6rA2ybfWFTDdbPDbYfoE7aZQSD1OBN1hujQcRl1fZWFCZZ8w2yeimRvZ1NgA72bg9OVCYWkfiufx15YcBR2vuFRfBXpb16UHzsDHRthGtwDRZyuH53HZtEpQGth0VliESdXypF6niXrDXyruB1ASc7FZno-GAZuE5C9MEdwY9iTyDL5HU/file\n",
            "Reusing existing connection to uc4334d5bfbba6cea6b5f9162886.dl.dropboxusercontent.com:443.\n",
            "HTTP request sent, awaiting response... 200 OK\n",
            "Length: 89610904 (85M) [application/octet-stream]\n",
            "Saving to: ‘/content/DeepMoji/model/deepmoji_weights.hdf5’\n",
            "\n",
            "/content/DeepMoji/m 100%[===================>]  85.46M  61.5MB/s    in 1.4s    \n",
            "\n",
            "2020-09-19 20:20:16 (61.5 MB/s) - ‘/content/DeepMoji/model/deepmoji_weights.hdf5’ saved [89610904/89610904]\n",
            "\n",
            "Downloaded weights to model/deepmoji_weights.hdf5\n"
          ],
          "name": "stdout"
        }
      ]
    },
    {
      "cell_type": "code",
      "metadata": {
        "id": "6zh1fFN9BRV7",
        "colab_type": "code",
        "colab": {
          "base_uri": "https://localhost:8080/",
          "height": 102
        },
        "outputId": "9ec5bffd-c85f-4c92-b384-1f330faf281e"
      },
      "source": [
        "!pip install nose"
      ],
      "execution_count": null,
      "outputs": [
        {
          "output_type": "stream",
          "text": [
            "Collecting nose\n",
            "\u001b[?25l  Downloading https://files.pythonhosted.org/packages/15/d8/dd071918c040f50fa1cf80da16423af51ff8ce4a0f2399b7bf8de45ac3d9/nose-1.3.7-py3-none-any.whl (154kB)\n",
            "\r\u001b[K     |██▏                             | 10kB 30.5MB/s eta 0:00:01\r\u001b[K     |████▎                           | 20kB 2.8MB/s eta 0:00:01\r\u001b[K     |██████▍                         | 30kB 3.8MB/s eta 0:00:01\r\u001b[K     |████████▌                       | 40kB 4.1MB/s eta 0:00:01\r\u001b[K     |██████████▋                     | 51kB 3.3MB/s eta 0:00:01\r\u001b[K     |████████████▊                   | 61kB 3.8MB/s eta 0:00:01\r\u001b[K     |██████████████▉                 | 71kB 4.0MB/s eta 0:00:01\r\u001b[K     |█████████████████               | 81kB 4.4MB/s eta 0:00:01\r\u001b[K     |███████████████████             | 92kB 4.5MB/s eta 0:00:01\r\u001b[K     |█████████████████████▏          | 102kB 4.5MB/s eta 0:00:01\r\u001b[K     |███████████████████████▎        | 112kB 4.5MB/s eta 0:00:01\r\u001b[K     |█████████████████████████▍      | 122kB 4.5MB/s eta 0:00:01\r\u001b[K     |███████████████████████████▌    | 133kB 4.5MB/s eta 0:00:01\r\u001b[K     |█████████████████████████████▋  | 143kB 4.5MB/s eta 0:00:01\r\u001b[K     |███████████████████████████████▊| 153kB 4.5MB/s eta 0:00:01\r\u001b[K     |████████████████████████████████| 163kB 4.5MB/s \n",
            "\u001b[?25hInstalling collected packages: nose\n",
            "Successfully installed nose-1.3.7\n"
          ],
          "name": "stdout"
        }
      ]
    },
    {
      "cell_type": "code",
      "metadata": {
        "id": "PZLgnLDyCFw5",
        "colab_type": "code",
        "colab": {
          "base_uri": "https://localhost:8080/",
          "height": 35
        },
        "outputId": "81a3af94-1432-4643-ddfb-2e019c94491d"
      },
      "source": [
        "os.getcwd()"
      ],
      "execution_count": null,
      "outputs": [
        {
          "output_type": "execute_result",
          "data": {
            "application/vnd.google.colaboratory.intrinsic+json": {
              "type": "string"
            },
            "text/plain": [
              "'/content/DeepMoji'"
            ]
          },
          "metadata": {
            "tags": []
          },
          "execution_count": 9
        }
      ]
    },
    {
      "cell_type": "code",
      "metadata": {
        "id": "e0D8_BGXCH-U",
        "colab_type": "code",
        "colab": {
          "base_uri": "https://localhost:8080/",
          "height": 35
        },
        "outputId": "ee7b02c9-adcc-4519-da30-73b957d4cb98"
      },
      "source": [
        "os.chdir('tests')\n",
        "os.getcwd()"
      ],
      "execution_count": null,
      "outputs": [
        {
          "output_type": "execute_result",
          "data": {
            "application/vnd.google.colaboratory.intrinsic+json": {
              "type": "string"
            },
            "text/plain": [
              "'/content/DeepMoji/tests'"
            ]
          },
          "metadata": {
            "tags": []
          },
          "execution_count": 10
        }
      ]
    },
    {
      "cell_type": "code",
      "metadata": {
        "id": "ByRpA2RmCX_U",
        "colab_type": "code",
        "colab": {
          "base_uri": "https://localhost:8080/",
          "height": 324
        },
        "outputId": "d4177f7d-f3ff-441a-e3fe-51d2b3ebec18"
      },
      "source": [
        "!pip install tokenizer\n",
        "import tokenizer"
      ],
      "execution_count": null,
      "outputs": [
        {
          "output_type": "stream",
          "text": [
            "Collecting tokenizer\n",
            "\u001b[?25l  Downloading https://files.pythonhosted.org/packages/ba/09/117167b7535d6b965e98c55b8c18d6d4c2f98fb06f6989de31f1baf6e746/tokenizer-2.3.0-py2.py3-none-any.whl (116kB)\n",
            "\r\u001b[K     |██▉                             | 10kB 17.4MB/s eta 0:00:01\r\u001b[K     |█████▋                          | 20kB 3.0MB/s eta 0:00:01\r\u001b[K     |████████▍                       | 30kB 4.0MB/s eta 0:00:01\r\u001b[K     |███████████▏                    | 40kB 4.3MB/s eta 0:00:01\r\u001b[K     |██████████████                  | 51kB 3.5MB/s eta 0:00:01\r\u001b[K     |████████████████▉               | 61kB 4.0MB/s eta 0:00:01\r\u001b[K     |███████████████████▋            | 71kB 4.3MB/s eta 0:00:01\r\u001b[K     |██████████████████████▍         | 81kB 4.6MB/s eta 0:00:01\r\u001b[K     |█████████████████████████▎      | 92kB 5.0MB/s eta 0:00:01\r\u001b[K     |████████████████████████████    | 102kB 4.8MB/s eta 0:00:01\r\u001b[K     |██████████████████████████████▉ | 112kB 4.8MB/s eta 0:00:01\r\u001b[K     |████████████████████████████████| 122kB 4.8MB/s \n",
            "\u001b[?25hCollecting typing\n",
            "\u001b[?25l  Downloading https://files.pythonhosted.org/packages/05/d9/6eebe19d46bd05360c9a9aae822e67a80f9242aabbfc58b641b957546607/typing-3.7.4.3.tar.gz (78kB)\n",
            "\r\u001b[K     |████▏                           | 10kB 25.5MB/s eta 0:00:01\r\u001b[K     |████████▍                       | 20kB 32.7MB/s eta 0:00:01\r\u001b[K     |████████████▌                   | 30kB 20.5MB/s eta 0:00:01\r\u001b[K     |████████████████▊               | 40kB 23.8MB/s eta 0:00:01\r\u001b[K     |████████████████████▉           | 51kB 18.8MB/s eta 0:00:01\r\u001b[K     |█████████████████████████       | 61kB 16.4MB/s eta 0:00:01\r\u001b[K     |█████████████████████████████▏  | 71kB 15.1MB/s eta 0:00:01\r\u001b[K     |████████████████████████████████| 81kB 7.4MB/s \n",
            "\u001b[?25hBuilding wheels for collected packages: typing\n",
            "  Building wheel for typing (setup.py) ... \u001b[?25l\u001b[?25hdone\n",
            "  Created wheel for typing: filename=typing-3.7.4.3-cp36-none-any.whl size=26307 sha256=35ed83286d336da1deac2f3619db70ae433a3107d5935d7cdb34492b238fe3ad\n",
            "  Stored in directory: /root/.cache/pip/wheels/2d/04/41/8e1836e79581989c22eebac3f4e70aaac9af07b0908da173be\n",
            "Successfully built typing\n",
            "Installing collected packages: typing, tokenizer\n",
            "Successfully installed tokenizer-2.3.0 typing-3.7.4.3\n"
          ],
          "name": "stdout"
        },
        {
          "output_type": "display_data",
          "data": {
            "application/vnd.colab-display-data+json": {
              "pip_warning": {
                "packages": [
                  "typing"
                ]
              }
            }
          },
          "metadata": {
            "tags": []
          }
        }
      ]
    },
    {
      "cell_type": "code",
      "metadata": {
        "id": "qMkDGlAwBRQB",
        "colab_type": "code",
        "colab": {
          "base_uri": "https://localhost:8080/",
          "height": 102
        },
        "outputId": "7cd8ceec-b4c9-4637-94f8-d0ee5ec9a12d"
      },
      "source": [
        "!nosetests -v"
      ],
      "execution_count": null,
      "outputs": [
        {
          "output_type": "stream",
          "text": [
            "\n",
            "----------------------------------------------------------------------\n",
            "Ran 0 tests in 0.002s\n",
            "\n",
            "OK\n"
          ],
          "name": "stdout"
        }
      ]
    },
    {
      "cell_type": "code",
      "metadata": {
        "id": "kimEb4m2BRMz",
        "colab_type": "code",
        "colab": {}
      },
      "source": [
        ""
      ],
      "execution_count": null,
      "outputs": []
    },
    {
      "cell_type": "code",
      "metadata": {
        "id": "l6n4kA-gBRJD",
        "colab_type": "code",
        "colab": {}
      },
      "source": [
        ""
      ],
      "execution_count": null,
      "outputs": []
    },
    {
      "cell_type": "code",
      "metadata": {
        "id": "3DdPzLIY02uy",
        "colab_type": "code",
        "colab": {}
      },
      "source": [
        "df = pd.read_csv('/content/gdrive/My Drive/sentiment_reviews.csv')"
      ],
      "execution_count": null,
      "outputs": []
    },
    {
      "cell_type": "code",
      "metadata": {
        "id": "p61fusKB02sG",
        "colab_type": "code",
        "colab": {
          "base_uri": "https://localhost:8080/",
          "height": 555
        },
        "outputId": "63a86cd6-465d-4ab8-cb75-6a0eca51f18a"
      },
      "source": [
        "df.head()"
      ],
      "execution_count": null,
      "outputs": [
        {
          "output_type": "execute_result",
          "data": {
            "text/html": [
              "<div>\n",
              "<style scoped>\n",
              "    .dataframe tbody tr th:only-of-type {\n",
              "        vertical-align: middle;\n",
              "    }\n",
              "\n",
              "    .dataframe tbody tr th {\n",
              "        vertical-align: top;\n",
              "    }\n",
              "\n",
              "    .dataframe thead th {\n",
              "        text-align: right;\n",
              "    }\n",
              "</style>\n",
              "<table border=\"1\" class=\"dataframe\">\n",
              "  <thead>\n",
              "    <tr style=\"text-align: right;\">\n",
              "      <th></th>\n",
              "      <th>Unnamed: 0</th>\n",
              "      <th>Unnamed: 0.1</th>\n",
              "      <th>Id</th>\n",
              "      <th>ProductId</th>\n",
              "      <th>UserId</th>\n",
              "      <th>ProfileName</th>\n",
              "      <th>HelpfulnessNumerator</th>\n",
              "      <th>HelpfulnessDenominator</th>\n",
              "      <th>Score</th>\n",
              "      <th>Time</th>\n",
              "      <th>Summary</th>\n",
              "      <th>Text</th>\n",
              "      <th>processed_text</th>\n",
              "      <th>unlemm_processed_text</th>\n",
              "      <th>Sentiment</th>\n",
              "    </tr>\n",
              "  </thead>\n",
              "  <tbody>\n",
              "    <tr>\n",
              "      <th>0</th>\n",
              "      <td>0</td>\n",
              "      <td>0</td>\n",
              "      <td>1</td>\n",
              "      <td>B001E4KFG0</td>\n",
              "      <td>A3SGXH7AUHU8GW</td>\n",
              "      <td>delmartian</td>\n",
              "      <td>1</td>\n",
              "      <td>1</td>\n",
              "      <td>5</td>\n",
              "      <td>1303862400</td>\n",
              "      <td>Good Quality Dog Food</td>\n",
              "      <td>I have bought several of the Vitality canned d...</td>\n",
              "      <td>i bought vitality canned dog food product good...</td>\n",
              "      <td>i bought vitality canned dog food products goo...</td>\n",
              "      <td>1.0</td>\n",
              "    </tr>\n",
              "    <tr>\n",
              "      <th>1</th>\n",
              "      <td>1</td>\n",
              "      <td>1</td>\n",
              "      <td>2</td>\n",
              "      <td>B00813GRG4</td>\n",
              "      <td>A1D87F6ZCVE5NK</td>\n",
              "      <td>dll pa</td>\n",
              "      <td>0</td>\n",
              "      <td>0</td>\n",
              "      <td>1</td>\n",
              "      <td>1346976000</td>\n",
              "      <td>Not as Advertised</td>\n",
              "      <td>Product arrived labeled as Jumbo Salted Peanut...</td>\n",
              "      <td>product arrived labeled jumbo salted peanut th...</td>\n",
              "      <td>product arrived labeled jumbo salted peanuts  ...</td>\n",
              "      <td>-1.0</td>\n",
              "    </tr>\n",
              "    <tr>\n",
              "      <th>2</th>\n",
              "      <td>2</td>\n",
              "      <td>2</td>\n",
              "      <td>3</td>\n",
              "      <td>B000LQOCH0</td>\n",
              "      <td>ABXLMWJIXXAIN</td>\n",
              "      <td>Natalia Corres \"Natalia Corres\"</td>\n",
              "      <td>1</td>\n",
              "      <td>1</td>\n",
              "      <td>4</td>\n",
              "      <td>1219017600</td>\n",
              "      <td>\"Delight\" says it all</td>\n",
              "      <td>This is a confection that has been around a fe...</td>\n",
              "      <td>this confection century it light pillowy citru...</td>\n",
              "      <td>this confection centuries  it light  pillowy c...</td>\n",
              "      <td>1.0</td>\n",
              "    </tr>\n",
              "    <tr>\n",
              "      <th>3</th>\n",
              "      <td>3</td>\n",
              "      <td>3</td>\n",
              "      <td>4</td>\n",
              "      <td>B000UA0QIQ</td>\n",
              "      <td>A395BORC6FGVXV</td>\n",
              "      <td>Karl</td>\n",
              "      <td>3</td>\n",
              "      <td>3</td>\n",
              "      <td>2</td>\n",
              "      <td>1307923200</td>\n",
              "      <td>Cough Medicine</td>\n",
              "      <td>If you are looking for the secret ingredient i...</td>\n",
              "      <td>if looking secret ingredient robitussin i beli...</td>\n",
              "      <td>if looking secret ingredient robitussin i beli...</td>\n",
              "      <td>-1.0</td>\n",
              "    </tr>\n",
              "    <tr>\n",
              "      <th>4</th>\n",
              "      <td>4</td>\n",
              "      <td>4</td>\n",
              "      <td>5</td>\n",
              "      <td>B006K2ZZ7K</td>\n",
              "      <td>A1UQRSCLF8GW1T</td>\n",
              "      <td>Michael D. Bigham \"M. Wassir\"</td>\n",
              "      <td>0</td>\n",
              "      <td>0</td>\n",
              "      <td>5</td>\n",
              "      <td>1350777600</td>\n",
              "      <td>Great taffy</td>\n",
              "      <td>Great taffy at a great price.  There was a wid...</td>\n",
              "      <td>great taffy great price there wide assortment ...</td>\n",
              "      <td>great taffy great price  there wide assortment...</td>\n",
              "      <td>1.0</td>\n",
              "    </tr>\n",
              "  </tbody>\n",
              "</table>\n",
              "</div>"
            ],
            "text/plain": [
              "   Unnamed: 0  ...  Sentiment\n",
              "0           0  ...        1.0\n",
              "1           1  ...       -1.0\n",
              "2           2  ...        1.0\n",
              "3           3  ...       -1.0\n",
              "4           4  ...        1.0\n",
              "\n",
              "[5 rows x 15 columns]"
            ]
          },
          "metadata": {
            "tags": []
          },
          "execution_count": 6
        }
      ]
    },
    {
      "cell_type": "code",
      "metadata": {
        "id": "CaZI7cZn02x4",
        "colab_type": "code",
        "colab": {
          "base_uri": "https://localhost:8080/",
          "height": 34
        },
        "outputId": "c9db2708-8f10-4573-99cf-009a91bf360c"
      },
      "source": [
        "from google.colab import drive\n",
        "\n",
        "drive.mount('/content/gdrive')"
      ],
      "execution_count": null,
      "outputs": [
        {
          "output_type": "stream",
          "text": [
            "Mounted at /content/gdrive\n"
          ],
          "name": "stdout"
        }
      ]
    },
    {
      "cell_type": "code",
      "metadata": {
        "id": "3Zs-0txgzjmW",
        "colab_type": "code",
        "colab": {
          "base_uri": "https://localhost:8080/",
          "height": 1000
        },
        "outputId": "040e4830-bcee-44dd-84d9-26d63869ede2"
      },
      "source": [
        "!pip install -e ."
      ],
      "execution_count": null,
      "outputs": [
        {
          "output_type": "stream",
          "text": [
            "Obtaining file:///content/DeepMoji\n",
            "Collecting emoji==0.4.5\n",
            "  Downloading https://files.pythonhosted.org/packages/7e/0c/c3d24c913986271484fe85446a158ab7b5ff068daa5c2e0ba8793116eed6/emoji-0.4.5.tar.gz\n",
            "Collecting h5py==2.7.0\n",
            "\u001b[?25l  Downloading https://files.pythonhosted.org/packages/d4/f9/a449c76cab5d310fc0f7cf56ccb7d531b8abe21dd6395312a5f9e9c330ac/h5py-2.7.0-cp36-cp36m-manylinux1_x86_64.whl (4.8MB)\n",
            "\u001b[K     |████████████████████████████████| 4.8MB 5.7MB/s \n",
            "\u001b[?25hCollecting Keras==2.0.9\n",
            "\u001b[?25l  Downloading https://files.pythonhosted.org/packages/b6/5a/c7fe49396e9d14f89b05ea550f3d5f8c4cfb3af20e831a3d323fec2a0d5b/Keras-2.0.9-py2.py3-none-any.whl (299kB)\n",
            "\u001b[K     |████████████████████████████████| 307kB 35.0MB/s \n",
            "\u001b[?25hCollecting numpy==1.13.1\n",
            "\u001b[?25l  Downloading https://files.pythonhosted.org/packages/59/e2/57c1a6af4ff0ac095dd68b12bf07771813dbf401faf1b97f5fc0cb963647/numpy-1.13.1-cp36-cp36m-manylinux1_x86_64.whl (17.0MB)\n",
            "\u001b[K     |████████████████████████████████| 17.0MB 243kB/s \n",
            "\u001b[?25hCollecting scikit-learn==0.19.0\n",
            "\u001b[?25l  Downloading https://files.pythonhosted.org/packages/a4/b3/209652a5d60ce4a2a8a35ad893d7565bbb0f87ce043264ba5c9e7de304cd/scikit_learn-0.19.0-cp36-cp36m-manylinux1_x86_64.whl (12.4MB)\n",
            "\u001b[K     |████████████████████████████████| 12.4MB 160kB/s \n",
            "\u001b[?25hCollecting text-unidecode==1.0\n",
            "\u001b[?25l  Downloading https://files.pythonhosted.org/packages/09/c6/c7a477228b2162937f200ece3793bb21c0f21f66b00fc010cdeb93cf465b/text_unidecode-1.0-py2.py3-none-any.whl (75kB)\n",
            "\u001b[K     |████████████████████████████████| 81kB 10.8MB/s \n",
            "\u001b[?25hRequirement already satisfied: six in /usr/local/lib/python3.6/dist-packages (from h5py==2.7.0->deepmoji==1.0) (1.15.0)\n",
            "Requirement already satisfied: pyyaml in /usr/local/lib/python3.6/dist-packages (from Keras==2.0.9->deepmoji==1.0) (3.13)\n",
            "Requirement already satisfied: scipy>=0.14 in /usr/local/lib/python3.6/dist-packages (from Keras==2.0.9->deepmoji==1.0) (1.4.1)\n",
            "Building wheels for collected packages: emoji\n",
            "  Building wheel for emoji (setup.py) ... \u001b[?25l\u001b[?25hdone\n",
            "  Created wheel for emoji: filename=emoji-0.4.5-cp36-none-any.whl size=38200 sha256=0324b201ea9b774c69bd05c99fe80c58ad6529057f743851471211c6795fe9ff\n",
            "  Stored in directory: /root/.cache/pip/wheels/82/5f/75/d3b84d3c13409f43533b70af38ca20abb09f7ffb0aaf051e33\n",
            "Successfully built emoji\n",
            "\u001b[31mERROR: yellowbrick 0.9.1 has requirement scikit-learn>=0.20, but you'll have scikit-learn 0.19.0 which is incompatible.\u001b[0m\n",
            "\u001b[31mERROR: xarray 0.15.1 has requirement numpy>=1.15, but you'll have numpy 1.13.1 which is incompatible.\u001b[0m\n",
            "\u001b[31mERROR: umap-learn 0.4.6 has requirement numpy>=1.17, but you'll have numpy 1.13.1 which is incompatible.\u001b[0m\n",
            "\u001b[31mERROR: umap-learn 0.4.6 has requirement scikit-learn>=0.20, but you'll have scikit-learn 0.19.0 which is incompatible.\u001b[0m\n",
            "\u001b[31mERROR: tifffile 2020.9.3 has requirement numpy>=1.15.1, but you'll have numpy 1.13.1 which is incompatible.\u001b[0m\n",
            "\u001b[31mERROR: textgenrnn 1.4.1 has requirement keras>=2.1.5, but you'll have keras 2.0.9 which is incompatible.\u001b[0m\n",
            "\u001b[31mERROR: tensorflow 2.3.0 has requirement h5py<2.11.0,>=2.10.0, but you'll have h5py 2.7.0 which is incompatible.\u001b[0m\n",
            "\u001b[31mERROR: tensorflow 2.3.0 has requirement numpy<1.19.0,>=1.16.0, but you'll have numpy 1.13.1 which is incompatible.\u001b[0m\n",
            "\u001b[31mERROR: tensorflow-probability 0.11.0 has requirement numpy>=1.13.3, but you'll have numpy 1.13.1 which is incompatible.\u001b[0m\n",
            "\u001b[31mERROR: spacy 2.2.4 has requirement numpy>=1.15.0, but you'll have numpy 1.13.1 which is incompatible.\u001b[0m\n",
            "\u001b[31mERROR: seaborn 0.10.1 has requirement numpy>=1.13.3, but you'll have numpy 1.13.1 which is incompatible.\u001b[0m\n",
            "\u001b[31mERROR: scipy 1.4.1 has requirement numpy>=1.13.3, but you'll have numpy 1.13.1 which is incompatible.\u001b[0m\n",
            "\u001b[31mERROR: pywavelets 1.1.1 has requirement numpy>=1.13.3, but you'll have numpy 1.13.1 which is incompatible.\u001b[0m\n",
            "\u001b[31mERROR: python-slugify 4.0.1 has requirement text-unidecode>=1.3, but you'll have text-unidecode 1.0 which is incompatible.\u001b[0m\n",
            "\u001b[31mERROR: pyarrow 0.14.1 has requirement numpy>=1.14, but you'll have numpy 1.13.1 which is incompatible.\u001b[0m\n",
            "\u001b[31mERROR: plotnine 0.6.0 has requirement numpy>=1.16.0, but you'll have numpy 1.13.1 which is incompatible.\u001b[0m\n",
            "\u001b[31mERROR: pandas 1.0.5 has requirement numpy>=1.13.3, but you'll have numpy 1.13.1 which is incompatible.\u001b[0m\n",
            "\u001b[31mERROR: numba 0.48.0 has requirement numpy>=1.15, but you'll have numpy 1.13.1 which is incompatible.\u001b[0m\n",
            "\u001b[31mERROR: librosa 0.6.3 has requirement scikit-learn!=0.19.0,>=0.14.0, but you'll have scikit-learn 0.19.0 which is incompatible.\u001b[0m\n",
            "\u001b[31mERROR: imgaug 0.2.9 has requirement numpy>=1.15.0, but you'll have numpy 1.13.1 which is incompatible.\u001b[0m\n",
            "\u001b[31mERROR: imbalanced-learn 0.4.3 has requirement scikit-learn>=0.20, but you'll have scikit-learn 0.19.0 which is incompatible.\u001b[0m\n",
            "\u001b[31mERROR: fbprophet 0.7.1 has requirement numpy>=1.15.4, but you'll have numpy 1.13.1 which is incompatible.\u001b[0m\n",
            "\u001b[31mERROR: fastai 1.0.61 has requirement numpy>=1.15, but you'll have numpy 1.13.1 which is incompatible.\u001b[0m\n",
            "\u001b[31mERROR: fancyimpute 0.4.3 has requirement scikit-learn>=0.19.1, but you'll have scikit-learn 0.19.0 which is incompatible.\u001b[0m\n",
            "\u001b[31mERROR: datascience 0.10.6 has requirement folium==0.2.1, but you'll have folium 0.8.3 which is incompatible.\u001b[0m\n",
            "\u001b[31mERROR: cvxpy 1.0.31 has requirement numpy>=1.15, but you'll have numpy 1.13.1 which is incompatible.\u001b[0m\n",
            "\u001b[31mERROR: blis 0.4.1 has requirement numpy>=1.15.0, but you'll have numpy 1.13.1 which is incompatible.\u001b[0m\n",
            "\u001b[31mERROR: astropy 4.0.1.post1 has requirement numpy>=1.16, but you'll have numpy 1.13.1 which is incompatible.\u001b[0m\n",
            "\u001b[31mERROR: albumentations 0.1.12 has requirement imgaug<0.2.7,>=0.2.5, but you'll have imgaug 0.2.9 which is incompatible.\u001b[0m\n",
            "Installing collected packages: emoji, numpy, h5py, Keras, scikit-learn, text-unidecode, deepmoji\n",
            "  Found existing installation: numpy 1.18.5\n",
            "    Uninstalling numpy-1.18.5:\n",
            "      Successfully uninstalled numpy-1.18.5\n",
            "  Found existing installation: h5py 2.10.0\n",
            "    Uninstalling h5py-2.10.0:\n",
            "      Successfully uninstalled h5py-2.10.0\n",
            "  Found existing installation: Keras 2.4.3\n",
            "    Uninstalling Keras-2.4.3:\n",
            "      Successfully uninstalled Keras-2.4.3\n",
            "  Found existing installation: scikit-learn 0.22.2.post1\n",
            "    Uninstalling scikit-learn-0.22.2.post1:\n",
            "      Successfully uninstalled scikit-learn-0.22.2.post1\n",
            "  Found existing installation: text-unidecode 1.3\n",
            "    Uninstalling text-unidecode-1.3:\n",
            "      Successfully uninstalled text-unidecode-1.3\n",
            "  Running setup.py develop for deepmoji\n",
            "Successfully installed Keras-2.0.9 deepmoji emoji-0.4.5 h5py-2.7.0 numpy-1.13.1 scikit-learn-0.19.0 text-unidecode-1.0\n"
          ],
          "name": "stdout"
        },
        {
          "output_type": "display_data",
          "data": {
            "application/vnd.colab-display-data+json": {
              "pip_warning": {
                "packages": [
                  "numpy",
                  "sklearn",
                  "text_unidecode"
                ]
              }
            }
          },
          "metadata": {
            "tags": []
          }
        }
      ]
    },
    {
      "cell_type": "code",
      "metadata": {
        "id": "Feg1zsOXzji0",
        "colab_type": "code",
        "colab": {}
      },
      "source": [
        "!python scripts/download_weights.py"
      ],
      "execution_count": null,
      "outputs": []
    },
    {
      "cell_type": "code",
      "metadata": {
        "id": "uvXwhmUG0k-5",
        "colab_type": "code",
        "colab": {}
      },
      "source": [
        ""
      ],
      "execution_count": null,
      "outputs": []
    },
    {
      "cell_type": "code",
      "metadata": {
        "id": "tIcOGCXG0lFV",
        "colab_type": "code",
        "colab": {}
      },
      "source": [
        ""
      ],
      "execution_count": null,
      "outputs": []
    },
    {
      "cell_type": "code",
      "metadata": {
        "id": "VNBBhC4b0lLf",
        "colab_type": "code",
        "colab": {}
      },
      "source": [
        ""
      ],
      "execution_count": null,
      "outputs": []
    },
    {
      "cell_type": "code",
      "metadata": {
        "id": "9yqjUvNm0lSD",
        "colab_type": "code",
        "colab": {}
      },
      "source": [
        ""
      ],
      "execution_count": null,
      "outputs": []
    },
    {
      "cell_type": "code",
      "metadata": {
        "id": "sxJQhXuU0lYf",
        "colab_type": "code",
        "colab": {}
      },
      "source": [
        ""
      ],
      "execution_count": null,
      "outputs": []
    },
    {
      "cell_type": "code",
      "metadata": {
        "id": "uMTm5HyB0lex",
        "colab_type": "code",
        "colab": {}
      },
      "source": [
        ""
      ],
      "execution_count": null,
      "outputs": []
    },
    {
      "cell_type": "code",
      "metadata": {
        "id": "73pPsUXa0llV",
        "colab_type": "code",
        "colab": {}
      },
      "source": [
        ""
      ],
      "execution_count": null,
      "outputs": []
    },
    {
      "cell_type": "code",
      "metadata": {
        "id": "QW8vthlS0lsL",
        "colab_type": "code",
        "colab": {}
      },
      "source": [
        ""
      ],
      "execution_count": null,
      "outputs": []
    },
    {
      "cell_type": "code",
      "metadata": {
        "id": "Ut1TkvwS0lvH",
        "colab_type": "code",
        "colab": {}
      },
      "source": [
        ""
      ],
      "execution_count": null,
      "outputs": []
    },
    {
      "cell_type": "code",
      "metadata": {
        "id": "T49ZPlQd0lo3",
        "colab_type": "code",
        "colab": {}
      },
      "source": [
        ""
      ],
      "execution_count": null,
      "outputs": []
    },
    {
      "cell_type": "code",
      "metadata": {
        "id": "U7o_5V3J0liF",
        "colab_type": "code",
        "colab": {}
      },
      "source": [
        ""
      ],
      "execution_count": null,
      "outputs": []
    },
    {
      "cell_type": "code",
      "metadata": {
        "id": "MT-Nn2tI0lbr",
        "colab_type": "code",
        "colab": {}
      },
      "source": [
        ""
      ],
      "execution_count": null,
      "outputs": []
    },
    {
      "cell_type": "code",
      "metadata": {
        "id": "0QfcfMEV0lVR",
        "colab_type": "code",
        "colab": {}
      },
      "source": [
        ""
      ],
      "execution_count": null,
      "outputs": []
    },
    {
      "cell_type": "code",
      "metadata": {
        "id": "m2J3T-HI0lOs",
        "colab_type": "code",
        "colab": {}
      },
      "source": [
        ""
      ],
      "execution_count": null,
      "outputs": []
    },
    {
      "cell_type": "code",
      "metadata": {
        "id": "mkab_kTh0lIe",
        "colab_type": "code",
        "colab": {}
      },
      "source": [
        ""
      ],
      "execution_count": null,
      "outputs": []
    },
    {
      "cell_type": "code",
      "metadata": {
        "id": "48anPeRl0lCR",
        "colab_type": "code",
        "colab": {}
      },
      "source": [
        ""
      ],
      "execution_count": null,
      "outputs": []
    },
    {
      "cell_type": "code",
      "metadata": {
        "id": "P3hK5XG_0k72",
        "colab_type": "code",
        "colab": {}
      },
      "source": [
        ""
      ],
      "execution_count": null,
      "outputs": []
    },
    {
      "cell_type": "code",
      "metadata": {
        "id": "SrATKTJV02lu",
        "colab_type": "code",
        "colab": {}
      },
      "source": [
        "df.to_csv(\"sarcasm_filtered_reviews.csv\")\n",
        "!mv sarcasm_filtered_reviews.csv '/content/gdrive/My Drive/'"
      ],
      "execution_count": null,
      "outputs": []
    },
    {
      "cell_type": "code",
      "metadata": {
        "id": "peqsg0qrWqYP",
        "colab_type": "code",
        "colab": {}
      },
      "source": [
        ""
      ],
      "execution_count": null,
      "outputs": []
    }
  ]
}